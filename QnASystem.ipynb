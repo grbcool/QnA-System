{
 "cells": [
  {
   "cell_type": "code",
   "execution_count": 1,
   "metadata": {},
   "outputs": [],
   "source": [
    "import os\n",
    "import warnings\n",
    "warnings.filterwarnings('ignore')"
   ]
  },
  {
   "cell_type": "code",
   "execution_count": 1,
   "metadata": {},
   "outputs": [
    {
     "name": "stderr",
     "output_type": "stream",
     "text": [
      "/Library/Frameworks/Python.framework/Versions/3.10/lib/python3.10/site-packages/sentence_transformers/cross_encoder/CrossEncoder.py:11: TqdmExperimentalWarning: Using `tqdm.autonotebook.tqdm` in notebook mode. Use `tqdm.tqdm` instead to force console mode (e.g. in jupyter console)\n",
      "  from tqdm.autonotebook import tqdm, trange\n"
     ]
    }
   ],
   "source": [
    "from utils import *"
   ]
  },
  {
   "cell_type": "markdown",
   "metadata": {},
   "source": [
    "# Document Splitting"
   ]
  },
  {
   "cell_type": "code",
   "execution_count": 5,
   "metadata": {},
   "outputs": [],
   "source": [
    "#%pip install langchain --upgrade\n",
    "#%pip install --upgrade --quiet pypdf"
   ]
  },
  {
   "cell_type": "code",
   "execution_count": 1,
   "metadata": {},
   "outputs": [],
   "source": [
    "pdf_filepath = \"handbook.pdf\""
   ]
  },
  {
   "cell_type": "code",
   "execution_count": 2,
   "metadata": {},
   "outputs": [],
   "source": [
    "from langchain.document_loaders import PyPDFLoader\n",
    "from langchain.text_splitter import RecursiveCharacterTextSplitter\n",
    "\n",
    "import re"
   ]
  },
  {
   "cell_type": "code",
   "execution_count": 6,
   "metadata": {},
   "outputs": [],
   "source": [
    "chunk_size = 500\n",
    "chunk_overlap = 100\n",
    "\n",
    "# define the splitter \n",
    "r_splitter = RecursiveCharacterTextSplitter(\n",
    "    chunk_size=chunk_size,\n",
    "    chunk_overlap=chunk_overlap,\n",
    "    separators=[\"\\n\\n\", \"\\n\", \".\", \" \", \"\"]\n",
    ")"
   ]
  },
  {
   "cell_type": "code",
   "execution_count": 7,
   "metadata": {},
   "outputs": [],
   "source": [
    "loader = PyPDFLoader(pdf_filepath)\n",
    "documents = loader.load()\n",
    "\n",
    "chunks = r_splitter.split_documents(documents)"
   ]
  },
  {
   "cell_type": "code",
   "execution_count": 8,
   "metadata": {},
   "outputs": [
    {
     "data": {
      "text/plain": [
       "342"
      ]
     },
     "execution_count": 8,
     "metadata": {},
     "output_type": "execute_result"
    }
   ],
   "source": [
    "len(chunks)"
   ]
  },
  {
   "cell_type": "code",
   "execution_count": 6,
   "metadata": {},
   "outputs": [
    {
     "data": {
      "text/plain": [
       "Document(metadata={'source': 'handbook.pdf', 'page': 45}, page_content='[date|req|signer1]\\n_________________________                           _________________________\\n Signature                                                                         Date\\n[text|req|signer1]\\n_________________________\\n Print Name\\n46')"
      ]
     },
     "execution_count": 6,
     "metadata": {},
     "output_type": "execute_result"
    }
   ],
   "source": [
    "chunks[-1]"
   ]
  },
  {
   "cell_type": "code",
   "execution_count": 7,
   "metadata": {},
   "outputs": [
    {
     "data": {
      "text/plain": [
       "[Document(metadata={'source': 'handbook.pdf', 'page': 0}, page_content='Zania, Inc.\\nZania Employee Handbook\\nSeptember 07, 2023'),\n",
       " Document(metadata={'source': 'handbook.pdf', 'page': 1}, page_content='TABLE OF CONTENTS\\nCORE POLICIES\\n4\\n1.0 WELCOME\\n4\\n1.1 A Welcome Policy\\n4\\n1.2 At-Will Employment\\n4\\n2.0 INTRODUCTORY LANGUAGE AND POLICIES\\n5\\n2.1 About the Company\\n5\\n2.2 Company Facilities\\n5\\n2.3 Ethics Code\\n5\\n2.4 Mission Statement\\n5\\n2.5 Our Organization\\n5\\n2.6 Revisions to Handbook\\n5\\n3.0 HIRING AND ORIENTATION POLICIES\\n5\\n3.1 Accommodations for Pregnant Employees\\n5\\n3.2 Conflicts of Interest\\n6\\n3.3 Employment Authorization Verification\\n6\\n3.4 Employment of Relatives and Friends\\n6\\n3.5 Job Descriptions\\n7'),\n",
       " Document(metadata={'source': 'handbook.pdf', 'page': 1}, page_content='6\\n3.4 Employment of Relatives and Friends\\n6\\n3.5 Job Descriptions\\n7\\n3.6 New Hires and Introductory Periods\\n7\\n3.7 Training Program\\n7\\n4.0 WAGE AND HOUR POLICIES\\n7\\n4.1 Attendance\\n7\\n4.2 Business Expenses\\n7\\n4.3 Direct Deposit\\n8\\n4.4 Employment Classifications\\n8\\n4.5 Introduction to Wage and Hour Policies\\n8\\n4.6 Job Abandonment\\n9\\n4.7 Paycheck Deductions\\n9\\n4.8 Recording Time\\n9\\n4.9 Travel Expenses\\n10\\n4.10 Use of Employer Credit Cards\\n11\\n5.0 PERFORMANCE, DISCIPLINE, LAYOFF, AND TERMINATION\\n11'),\n",
       " Document(metadata={'source': 'handbook.pdf', 'page': 1}, page_content='10\\n4.10 Use of Employer Credit Cards\\n11\\n5.0 PERFORMANCE, DISCIPLINE, LAYOFF, AND TERMINATION\\n11\\n5.1 Criminal Activity/Arrests\\n11\\n5.2 Disciplinary Process\\n11\\n5.3 Exit Interview\\n12\\n5.4 Open Door/Conflict Resolution Process\\n12\\n5.5 Outside Employment\\n12\\n5.6 Pay Raises\\n12\\n5.7 Performance Improvement\\n12\\n5.8 Post-Employment References\\n13\\n5.9 Promotions\\n13\\n5.10 Resignation Policy\\n13\\n5.11 Standards of Conduct\\n13\\n5.12 Transfers\\n14\\n5.13 Workforce Reductions (Layoffs)\\n14\\n6.0 GENERAL POLICIES\\n14'),\n",
       " Document(metadata={'source': 'handbook.pdf', 'page': 1}, page_content='13\\n5.12 Transfers\\n14\\n5.13 Workforce Reductions (Layoffs)\\n14\\n6.0 GENERAL POLICIES\\n14\\n6.1 Computer Security and Copying of Software\\n14\\n6.2 Employer Sponsored Social Events\\n15\\n6.3 Employer-Provided Cell Phones/Mobile Devices\\n15\\n6.4 Nonsolicitation/Nondistribution Policy\\n15\\n6.5 Off-Duty Use of Employer Property or Premises\\n16\\n6.6 Personal Appearance\\n16\\n6.7 Personal Cell Phone/Mobile Device Use\\n16\\n6.8 Personal Data Changes\\n17\\n6.9 Security\\n17\\n6.10 Social Media\\n17\\n6.11 Third Party Disclosures\\n19'),\n",
       " Document(metadata={'source': 'handbook.pdf', 'page': 1}, page_content='6.8 Personal Data Changes\\n17\\n6.9 Security\\n17\\n6.10 Social Media\\n17\\n6.11 Third Party Disclosures\\n19\\n6.12 Use of Company Technology\\n19\\n6.13 Workplace Privacy and Right to Inspect\\n20\\n7.0 BENEFITS\\n20\\n7.1 Bereavement Leave\\n20\\n7.2 Holidays\\n21\\n7.3 Military Leave (USERRA)\\n21\\n7.4 Paid Time Off (PTO)\\n21\\n7.5 Personal Leave of Absence\\n23\\n7.6 Sick Pay\\n24\\n2'),\n",
       " Document(metadata={'source': 'handbook.pdf', 'page': 2}, page_content=\"7.7 Vacation\\n24\\n7.8 Workers' Compensation Insurance\\n26\\n8.0 SAFETY AND LOSS PREVENTION\\n26\\n8.1 Drug and Alcohol Policy\\n26\\n8.2 General Safety\\n27\\n8.3 Workplace Violence\\n27\\n9.0 TRADE SECRETS AND INVENTIONS\\n28\\n9.1 Confidentiality and Nondisclosure of Trade Secrets\\n28\\n9.2 Inventions\\n28\\nCALIFORNIA POLICIES\\n29\\nHIRING AND ORIENTATION POLICIES\\n29\\nAccommodations for Victims of Crime or Abuse\\n29\\nDisability Accommodation\\n30\\nEEO Statement and Nonharassment Policy\\n31\\nReligious Accommodation\\n34\"),\n",
       " Document(metadata={'source': 'handbook.pdf', 'page': 2}, page_content='29\\nDisability Accommodation\\n30\\nEEO Statement and Nonharassment Policy\\n31\\nReligious Accommodation\\n34\\nWAGE AND HOUR POLICIES\\n34\\nAccommodations for Nursing Mothers\\n34\\nMeal and Rest Periods\\n35\\nOne Day Rest in Seven\\n36\\nOvertime\\n36\\nPay Period\\n36\\nReporting Time Pay\\n37\\nTravel Time Pay\\n37\\nWage Disclosure Protection\\n37\\nWorkday/Workweek\\n38\\nGENERAL POLICIES\\n38\\nAccess to Personnel and Medical Records Files\\n38\\nWhistleblower Protections\\n38\\nBENEFITS\\n39\\nCrime Victim Leave\\n39\\nDisability Insurance\\n39'),\n",
       " Document(metadata={'source': 'handbook.pdf', 'page': 2}, page_content='38\\nWhistleblower Protections\\n38\\nBENEFITS\\n39\\nCrime Victim Leave\\n39\\nDisability Insurance\\n39\\nJury Duty Leave\\n39\\nPaid Family Leave Insurance\\n40\\nPaid Sick Leave (Accrual Method)\\n40\\nPaid Sick Leave (Frontloading Method)\\n41\\nSchool Disciplinary Leave\\n42\\nVoting Leave\\n43\\nWitness Leave\\n43\\nSAFETY AND LOSS PREVENTION\\n43\\nHeat Illness Prevention\\n43\\nWorkplace Smoking\\n44\\nTRADE SECRETS AND INVENTIONS\\n44\\nInventions\\n44\\nCLOSING STATEMENT\\n45\\nACKNOWLEDGMENT OF RECEIPT AND REVIEW\\n46\\n3'),\n",
       " Document(metadata={'source': 'handbook.pdf', 'page': 3}, page_content='Core Policies\\n1.0 \\nWelcome\\n1.1 \\nA Welcome Policy\\nWelcome! You have just joined a dedicated organization. We hope that your employment with Zania, Inc. will be rewarding\\nand challenging. We take pride in our employees as well as in the products and services we provide.\\nThe Company complies with all federal and state employment laws, and this handbook generally reflects those laws. The'),\n",
       " Document(metadata={'source': 'handbook.pdf', 'page': 3}, page_content='Company also complies with any applicable local laws, although there may not be an express written policy regarding those\\nlaws contained in the handbook. \\nThe employment policies and/or benefits summaries in this handbook are written for all employees. When questions arise\\nconcerning the interpretation of these policies as they relate to employees who are covered by a collective-bargaining'),\n",
       " Document(metadata={'source': 'handbook.pdf', 'page': 3}, page_content='agreement, the answers will be determined by reference to the actual union contract, rather than the summaries contained in\\nthis handbook.\\nPlease take the time now to read this handbook carefully. Sign the acknowledgment at the end to show that you have read,\\nunderstood, and agree to the contents of this handbook, which sets out the basic rules and guidelines concerning your\\nemployment. This handbook supersedes any previously issued handbooks or policy statements dealing with the subjects'),\n",
       " Document(metadata={'source': 'handbook.pdf', 'page': 3}, page_content='discussed herein. The Company reserves the right to interpret, modify, or supplement the provisions of this handbook at any\\ntime. Neither this handbook nor any other communication by a management representative or other, whether oral or written,\\nis intended in any way to create a contract of employment. Please understand that no employee handbook can address\\nevery situation in the work place.'),\n",
       " Document(metadata={'source': 'handbook.pdf', 'page': 3}, page_content='every situation in the work place. \\nIf you have questions about your employment or any provisions in this handbook, contact People Operations.\\nWe wish you success in your employment here at Zania, Inc.!\\nAll the best,\\nShruti Gupta, CEO\\nZania, Inc.\\n1.2 \\nAt-Will Employment\\nYour employment with Zania, Inc. is on an \"at-will\" basis. This means your employment may be terminated at any time, with'),\n",
       " Document(metadata={'source': 'handbook.pdf', 'page': 3}, page_content='or without notice and with or without cause. Likewise, we respect your right to leave the Company at any time, with or\\nwithout notice and with or without cause. \\nNothing in this handbook or any other Company document should be understood as creating a contract, guaranteed or\\ncontinued employment, a right to termination only \"for cause,\" or any other guarantee of continued benefits or employment.'),\n",
       " Document(metadata={'source': 'handbook.pdf', 'page': 3}, page_content='Only the CEO has the authority to make promises or negotiate with regard to guaranteed or continued employment, and any\\nsuch promises are only effective if placed in writing and signed by the CEO.\\nIf a written contract between you and the Company is inconsistent with this handbook, the written contract is controlling. \\nNothing in this handbook will be interpreted, applied, or enforced to interfere with, restrain, or coerce employees in the'),\n",
       " Document(metadata={'source': 'handbook.pdf', 'page': 3}, page_content='exercise of their rights under Section 7 of the National Labor Relations Act.\\n4'),\n",
       " Document(metadata={'source': 'handbook.pdf', 'page': 4}, page_content='This policy may not be appropriate in its entirety for employees working in Montana.\\n2.0 \\nIntroductory Language and Policies\\n2.1 \\nAbout the Company\\n[[Add your about the company statement here.]]\\n2.2 \\nCompany Facilities\\n[[Insert information about your company facilities here.]]\\n2.3 \\nEthics Code\\nZania, Inc. will conduct business honestly and ethically wherever operations are maintained. We strive to improve the quality'),\n",
       " Document(metadata={'source': 'handbook.pdf', 'page': 4}, page_content='of our services, products, and operations and will maintain a reputation for honesty, fairness, respect, responsibility,\\nintegrity, trust, and sound business judgment. Our managers and employees are expected to adhere to high standards of\\nbusiness and personal integrity as a representation of our business practices, at all times consistent with their duty of loyalty\\nto the Company.'),\n",
       " Document(metadata={'source': 'handbook.pdf', 'page': 4}, page_content='to the Company.\\nWe expect that officers, directors, and employees will not knowingly misrepresent the Company and will not speak on behalf\\nof the Company unless specifically authorized. The confidentiality of trade secrets, proprietary information, and similar\\nconfidential commercially-sensitive information (i.e. financial or sales records/reports, marketing or business\\nstrategies/plans, product development, customer lists, patents, trademarks, etc.) about the Company or operations, or that of'),\n",
       " Document(metadata={'source': 'handbook.pdf', 'page': 4}, page_content='our customers or partners, is to be treated with discretion and only disseminated on a need-to-know basis (see policies\\nrelating to privacy).\\nViolation of the Code of Ethics can result in discipline, up to and including termination of employment. The degree of\\ndiscipline imposed may be influenced by the existence of voluntary disclosure of any ethical violation and whether or not the\\nviolator cooperated in any subsequent investigation.\\n2.4 \\nMission Statement'),\n",
       " Document(metadata={'source': 'handbook.pdf', 'page': 4}, page_content=\"violator cooperated in any subsequent investigation.\\n2.4 \\nMission Statement\\n[[Insert your company's mission statement here.]]\\n2.5 \\nOur Organization\\n[[Add information about your organization or organizational chart here.]]\\n2.6 \\nRevisions to Handbook\\nThis handbook is our attempt to keep you informed of the terms and conditions of your employment, including Zania, Inc.\\npolicies and procedures. The handbook is not a contract. The Company reserves the right to revise, add, or delete from this\"),\n",
       " Document(metadata={'source': 'handbook.pdf', 'page': 4}, page_content='handbook as we determine to be in our best interest, except the policy concerning at-will employment. When changes are\\nmade to the policies and guidelines contained herein, we will endeavor to communicate them in a timely fashion, typically in\\na written supplement to the handbook or in a posting on company bulletin boards.\\n3.0 \\nHiring and Orientation Policies\\n3.1 \\nAccommodations for Pregnant Employees'),\n",
       " Document(metadata={'source': 'handbook.pdf', 'page': 4}, page_content='3.0 \\nHiring and Orientation Policies\\n3.1 \\nAccommodations for Pregnant Employees\\nZania, Inc. will provide reasonable accommodation to pregnant employees for known limitations related to pregnancy,\\nchildbirth, or other related medical conditions in accordance with the federal Pregnant Workers Fairness Act (PWFA).\\n5'),\n",
       " Document(metadata={'source': 'handbook.pdf', 'page': 5}, page_content='Examples of potential reasonable accommodations include:\\nSeating;\\nCloser parking;\\nFlexible hours;\\nAppropriately sized uniforms and safety apparel;\\nAdditional break time to use the bathroom, eat, and rest;\\nLeave or time off to recover from childbirth;\\nLimitations on strenuous activities; and\\nLimitations on strenuous activities or those that involve exposure to compounds not safe for pregnancy.'),\n",
       " Document(metadata={'source': 'handbook.pdf', 'page': 5}, page_content='If you require an accommodation, notify your Manager. If the need for a particular accommodation is not obvious, you may\\nbe asked to include relevant information such as:\\nThe reason you need an accommodation.\\nA description of the proposed accommodation.\\nHow the accommodation will address limitations caused by pregnancy, childbirth, or related medical conditions.\\nThe Company will not require you to accept any accommodation without engaging in the interactive process to accurately'),\n",
       " Document(metadata={'source': 'handbook.pdf', 'page': 5}, page_content='understand your limitations and explore potential accommodations. The Company is not required to make your specific\\nrequested accommodation and is not required to provide any accommodation that would constitute an undue hardship on\\nthe Company.\\nIf leave is provided as a reasonable accommodation, it may run concurrently with leave under the federal Family and\\nMedical Leave Act and/or any other leave where permitted by law.'),\n",
       " Document(metadata={'source': 'handbook.pdf', 'page': 5}, page_content='Medical Leave Act and/or any other leave where permitted by law.\\nThe Company will comply with state or local laws that provide additional protections beyond the PWFA.\\nThe Company will not retaliate against employees who request or receive an accommodation under this policy.\\n3.2 \\nConflicts of Interest\\nZania, Inc. is concerned with conflicts of interest that create actual or potential job-related concerns, especially in the areas'),\n",
       " Document(metadata={'source': 'handbook.pdf', 'page': 5}, page_content='of confidentiality, customer relations, safety, security, and morale. If there is any actual or potential conflict of interest\\nbetween you and a competitor, supplier, distributor, or contractor to the Company, you must disclose it to your Manager. If\\nan actual or potential conflict of interest is determined to exist, the Company will take such steps as it deems necessary to\\nreduce or eliminate this conflict.\\n3.3 \\nEmployment Authorization Verification'),\n",
       " Document(metadata={'source': 'handbook.pdf', 'page': 5}, page_content='reduce or eliminate this conflict.\\n3.3 \\nEmployment Authorization Verification\\nNew hires will be required to complete Section 1 of federal Form I-9 on the first day of paid employment and must present\\nacceptable documents authorized by the U.S. Citizenship and Immigration Services proving identity and employment\\nauthorization no later than the third business day following the start of employment with Zania, Inc.. If you are currently'),\n",
       " Document(metadata={'source': 'handbook.pdf', 'page': 5}, page_content='employed and have not complied with this requirement or if your status has changed, inform your Manager.\\nIf you are authorized to work in this country for a limited period of time, you will be required to submit proof of renewed\\nemployment eligibility prior to expiration of that period to remain employed by the Company.\\n3.4 \\nEmployment of Relatives and Friends\\nWe will not employ friends or relatives in circumstances where actual or potential conflicts may arise that could compromise'),\n",
       " Document(metadata={'source': 'handbook.pdf', 'page': 5}, page_content='supervision, safety, confidentiality, security, and morale at Zania, Inc.. It is your obligation to inform the Company of any\\nsuch potential conflict so the Company can determine how best to respond to the particular situation.\\n6'),\n",
       " Document(metadata={'source': 'handbook.pdf', 'page': 6}, page_content='3.5 \\nJob Descriptions\\nZania, Inc. attempts to maintain a job description for each position. If you do not have a current copy of your job description,\\nyou should request one from your Manager. \\nJob descriptions prepared by the Company serve as an outline only. Due to business needs, you may be required to perform\\njob duties that are not within your written job description. Furthermore, the Company may have to revise, add to, or delete'),\n",
       " Document(metadata={'source': 'handbook.pdf', 'page': 6}, page_content='from your job duties per business needs. On occasion, the Company may need to revise job descriptions with or without\\nadvance notice to employees.\\nIf you have any questions regarding your job description or the scope of your duties, please speak with your Manager.\\n3.6 \\nNew Hires and Introductory Periods\\nThe first [[insert #]] days of your employment is considered an introductory period. During this period, you will become'),\n",
       " Document(metadata={'source': 'handbook.pdf', 'page': 6}, page_content='familiar with Zania, Inc. and your job responsibilities, and we will have the opportunity to monitor the quality and value of\\nyour performance and make any necessary adjustments in your job description or responsibilities. Completion of this\\nintroductory period does not imply guaranteed or continued employment. Nothing that occurs during or after this period\\nshould be construed to change the nature of the [[\"at-will\"]] employment relationship.\\n3.7 \\nTraining Program'),\n",
       " Document(metadata={'source': 'handbook.pdf', 'page': 6}, page_content='3.7 \\nTraining Program\\nIn most cases, and for most departments, training employees is done on an individual basis by the department manager.\\nEven if you have had previous experience in the specified functions of your job duties, it is necessary for you to learn our\\nspecific procedures, as well as the responsibilities of the specific position. If you ever feel you require additional training,\\nconsult your Manager.\\n4.0 \\nWage and Hour Policies\\n4.1 \\nAttendance'),\n",
       " Document(metadata={'source': 'handbook.pdf', 'page': 6}, page_content='consult your Manager.\\n4.0 \\nWage and Hour Policies\\n4.1 \\nAttendance\\nIf you know ahead of time that you will be absent or late, provide reasonable advance notice to your Manager. You may be\\nrequired to provide documentation of any medical or other excuse for being absent or late where permitted by applicable\\nlaw.\\nZania, Inc. reserves the right to apply unused vacation, sick time, or other paid time off to unauthorized absences where'),\n",
       " Document(metadata={'source': 'handbook.pdf', 'page': 6}, page_content='permitted by applicable law. Absences resulting from approved leave, vacation, or legal requirements are exceptions to the\\npolicy.\\n4.2 \\nBusiness Expenses\\nThe purpose of this policy is to define approved nontravel business expenses and the authority for incurring and approving\\nsuch expenses at Zania, Inc..\\nApproved business expenses\\n are the reasonable and necessary expenses incurred by employees to achieve legitimate'),\n",
       " Document(metadata={'source': 'handbook.pdf', 'page': 6}, page_content='are the reasonable and necessary expenses incurred by employees to achieve legitimate\\nbusiness purposes that are not covered by normal Company procurement processes.\\nBusiness Meetings (Employer-Sponsored Events and Meetings)\\nThe Company pays for expenses necessary to achieve a valid business purpose when meetings are held with customers,\\nvendors, or other Company employees. The most senior Company individual present is responsible for paying for and\\nreporting all expenses.'),\n",
       " Document(metadata={'source': 'handbook.pdf', 'page': 6}, page_content='reporting all expenses.\\nThe Company will make every effort to have a master account set up for Company-wide and large group events. However, if\\n7'),\n",
       " Document(metadata={'source': 'handbook.pdf', 'page': 7}, page_content='you are at a small meeting or staying by yourself at a hotel, pay individually and submit for reimbursement accordingly.\\nEntertainment\\nThe Company pays for entertainment expenses only when they clearly benefit the Company, include customers, and are\\npromotional in nature. The most senior individual present is responsible for paying for and reporting all expenses.\\nTechnical and Training Seminars'),\n",
       " Document(metadata={'source': 'handbook.pdf', 'page': 7}, page_content='Technical and Training Seminars\\nThe Company pays for expenses associated with attendance at classes and seminars that enhance job-related skills. Prior\\napproval must be obtained by your Manager.\\nGifts\\nYou may present gifts only under exceptional circumstances and with prior approval of the appropriate Company officer. The\\nCompany does not reimburse costs over $25 for business gifts.\\nOther Expenses\\nThe Company will pay for postage and telephone expenses that are for business purposes.\\nReporting'),\n",
       " Document(metadata={'source': 'handbook.pdf', 'page': 7}, page_content='The Company will pay for postage and telephone expenses that are for business purposes.\\nReporting\\nReport approved expenses on the standard expense report form and include a description of the expense (which should\\ninclude the date, vendor, business purpose, and a list of any attendees/participants) and a copy of the receipt.\\n4.3 \\nDirect Deposit\\nZania, Inc. encourages all employees to enroll in direct deposit. If you would like to take advantage of direct deposit, ask'),\n",
       " Document(metadata={'source': 'handbook.pdf', 'page': 7}, page_content='[[appropriate person or department]] for an application form. Typically, the bank will begin the direct deposit of your payroll\\nwithin 30 calendar days after you submit your completed application.\\nIf you have selected the direct deposit payroll service, a written explanation of your deductions will be provided to you on\\npaydays in lieu of a check.\\n4.4 \\nEmployment Classifications\\nThe Company designates all employees as either exempt or nonexempt in compliance with applicable federal, state, and'),\n",
       " Document(metadata={'source': 'handbook.pdf', 'page': 7}, page_content='local law:\\nExempt Employees.\\n Exempt employees are generally paid a fixed salary and are not entitled to overtime pay.\\nNonexempt Employees.\\n Nonexempt employees are entitled to minimum wage and overtime pay.\\nThe Company also assigns each employee to one of the following categories:\\nRegular Full-Time Employees.\\n Regular full-time employees are normally scheduled to work at least [[X]] hours per'),\n",
       " Document(metadata={'source': 'handbook.pdf', 'page': 7}, page_content='Regular full-time employees are normally scheduled to work at least [[X]] hours per\\nworkweek, except for approved time off. [[Full-time employees are eligible for most Company benefits.]]\\nRegular Part-Time Employees.\\n Regular part-time employees are normally scheduled to work [[X]] hours or less per\\nworkweek. [[Part-time employees are not eligible for most Company benefits.]]\\n[[\\nTemporary/Seasonal Employees.\\n Temporary employees are generally hired on a temporary or project-specific'),\n",
       " Document(metadata={'source': 'handbook.pdf', 'page': 7}, page_content='Temporary employees are generally hired on a temporary or project-specific\\nbasis, with either full- or part-time hours. Seasonal employees are hired on a temporary basis during a time of year\\nwhen extra work is available. Temporary/seasonal employees are not eligible for most Company benefits.]]\\nYou will be informed of your classification, status, and responsibilities at the time of hire and at any time your classification,'),\n",
       " Document(metadata={'source': 'handbook.pdf', 'page': 7}, page_content='status, or responsibilities change. If you have a question regarding this information, contact [[appropriate person or\\ndepartment]]. These classifications do not alter your employment at-will status.\\n4.5 \\nIntroduction to Wage and Hour Policies\\n8'),\n",
       " Document(metadata={'source': 'handbook.pdf', 'page': 8}, page_content='At Zania, Inc., pay depends on a wide range of factors, including pay scale surveys, individual effort, profits, and market\\nforces. If you have any questions about your compensation, including matters such as paid time off, commissions, overtime,\\nbenefits, or paycheck deductions, speak with your Manager.\\n4.6 \\nJob Abandonment\\nIf you fail to show up for work or fail to call in with an acceptable reason for the absence for a period of [[#]] consecutive'),\n",
       " Document(metadata={'source': 'handbook.pdf', 'page': 8}, page_content='days, you will be considered to have abandoned your job and voluntarily resigned from Zania, Inc..\\n4.7 \\nPaycheck Deductions\\nZania, Inc. is required by law to make certain deductions from your pay each pay period, including deductions for federal\\nincome tax, Social Security and Medicare (FICA) taxes, [[LIST OTHER REQUIRED DEDUCTIONS: e.g., state income taxes,\\nstate unemployment taxes, state disability insurance taxes, etc.]], and any other deductions required under law or by court'),\n",
       " Document(metadata={'source': 'handbook.pdf', 'page': 8}, page_content='order for wage garnishments. The amount of your tax deductions will depend on your earnings and the information you list\\non your federal Form W-4 and applicable state withholding form. Permissible deductions for exempt employees may also\\ninclude, but are not limited to, deductions for full-day absences for reasons other than sickness or disability and certain\\ndisciplinary suspensions. You may also authorize certain voluntary deductions from your paycheck where permissible under'),\n",
       " Document(metadata={'source': 'handbook.pdf', 'page': 8}, page_content='state law. Your deductions will be reflected in your wage statement. If you have any questions about deductions from your\\npay, contact your Manager.\\nThe Company will not make deductions to your pay that are prohibited by federal, state, or local law. Review your paycheck\\nfor errors each pay period and immediately report any discrepancies to your Manager.\\nYou will be reimbursed in full for any isolated, inadvertent, or improper deductions, as defined by law. If an error is found,'),\n",
       " Document(metadata={'source': 'handbook.pdf', 'page': 8}, page_content='you will receive an immediate adjustment, which will be paid no later than your next regular payday. \\nThe Company will not retaliate against employees who report erroneous deductions in accordance with this policy.\\n4.8 \\nRecording Time\\nZania, Inc. is required by applicable federal, state, and local laws to keep accurate records of hours worked by certain\\nemployees. To ensure that the Company has complete and accurate time records and that employees are paid for all hours'),\n",
       " Document(metadata={'source': 'handbook.pdf', 'page': 8}, page_content='worked, nonexempt employees are required to record all working time using Company [[time cards/time sheets/punch\\nclock/timekeeping application/other]]. Speak with your Manager for specific instructions.\\nYou must accurately record all of your time to ensure you are paid for all hours worked, and must follow established\\nCompany procedures for recording your hours worked. Time must be recorded as follows:\\nImmediately before starting your shift.'),\n",
       " Document(metadata={'source': 'handbook.pdf', 'page': 8}, page_content='Immediately before starting your shift.\\nImmediately after finishing work, before your meal period.\\nImmediately before resuming work, after your meal period.\\nImmediately after finishing work.\\nImmediately before and after any other time away from work.\\n[[Other compensable time required by state law (such as time taken waiting to undergo and undergoing mandatory\\nscreenings)]].\\n[[Time sheets/time cards are to be turned in to your Manager or appropriate department on (date or dates).]]'),\n",
       " Document(metadata={'source': 'handbook.pdf', 'page': 8}, page_content='[[If you are required to clock in, you should clock in no more than five minutes before the time you actually start working and\\nclock out no later than five minutes after you actually stop working.]]\\nNotify your Manager [[or appropriate department]] of any pay discrepancies, unrecorded or misrecorded work hours, or any\\n9'),\n",
       " Document(metadata={'source': 'handbook.pdf', 'page': 9}, page_content='involuntarily missed meal or break periods.\\nFalsifying time entries is strictly prohibited. Falsifying time entries includes working \"off the clock.\" If you falsify your own time\\nrecords, or the time records of co-workers, or if you work off the clock, you will be subject to discipline up to and including\\ntermination. Immediately report to [[appropriate department]] any employee, supervisor, or manager who falsifies your time'),\n",
       " Document(metadata={'source': 'handbook.pdf', 'page': 9}, page_content='entries or encourages or requires you to falsify your time entries or work off the clock.\\n4.9 \\nTravel Expenses\\nThe purpose of this policy is to define approved business travel expenses and the authority for incurring and approving such\\nexpenses at Zania, Inc.. \\nTravel expenses are the reasonable and necessary expenses incurred by employees when traveling on approved Zania,\\nInc. business trips. Travel is limited to business activities for which other means of communication is inadequate and for'),\n",
       " Document(metadata={'source': 'handbook.pdf', 'page': 9}, page_content='which prior approval from your Manager has been received.\\nAdvances\\nThe Company does not generally provide cash travel advances. Normally, you will be expected to use personal credit cards\\nand/or your own cash and submit approved expenses on the standard Expense Report Form.\\nTravel Expenses\\nThe Company pays the actual amounts incurred for appropriate expenses when you are on travel assignments. Examples of\\ntypical expenses include the following:\\nAirline tickets.\\nMeals and lodging.'),\n",
       " Document(metadata={'source': 'handbook.pdf', 'page': 9}, page_content='typical expenses include the following:\\nAirline tickets.\\nMeals and lodging.\\nCar rental, bus, taxi, parking.\\nTelephone and fax.\\nLaundry and dry cleaning (trips exceeding one week only, unless emergency).\\nBusiness supplies and services.\\nAssociated gratuities.\\nOther expenses necessary to achieve the business purposes.\\nFamily Members\\nThe Company will pay the travel expenses of spouses or other family members only when their presence is necessary to the'),\n",
       " Document(metadata={'source': 'handbook.pdf', 'page': 9}, page_content='business purpose of the trip and when approved in advance in writing by the [[President or Chief Executive Officer]].\\nAir Travel\\nUse economy or tourist class airfares when traveling on Company business. In addition, private, noncommercial aircraft or\\nchartered aircraft is not to be used, and no more than two Company officers should travel together on the same flight.\\nAirfares are to be charged to personal credit cards and subsequently submitted for reimbursement on a monthly expense\\nreport.'),\n",
       " Document(metadata={'source': 'handbook.pdf', 'page': 9}, page_content='report.\\nHotels\\nNeither in-room movies nor refreshment bars are approved Company expenses.\\nInsurance\\nThe Company does not pay for personal travel insurance for employees.\\nRental Cars\\n10'),\n",
       " Document(metadata={'source': 'handbook.pdf', 'page': 10}, page_content='You are to use rental firms having existing relationships with the Company and, where feasible, have negotiated discount\\nrates. Available reasonable transportation is to be used.\\nPersonal Vehicles\\nWhen using your own vehicle for business purposes, you must maintain insurance coverage as required by law and may not\\nhave more than [[2 points]] on your driving record. Travel between your home and primary office is not considered to be'),\n",
       " Document(metadata={'source': 'handbook.pdf', 'page': 10}, page_content='business travel. You may not use your personal vehicle for business travel without authorization. Every attempt should be\\nmade to utilize the use of courier and delivery services in order to avoid hazard of liability and the time away from work. You\\nwill be reimbursed for vehicle use at the standard IRS mileage rate. The [[President or Chief Executive Officer]] must\\nauthorize any deviation from this policy.\\nReporting'),\n",
       " Document(metadata={'source': 'handbook.pdf', 'page': 10}, page_content='authorize any deviation from this policy.\\nReporting\\nReport approved expenses and include a description of the expense, its business purpose, date, place, and the participants.\\nTravel Reservations\\nAirline travel, rental cars, and hotels must be booked through the corporate designated travel agency in order to be\\nreimbursed.\\n4.10 \\nUse of Employer Credit Cards\\nAll employees in the possession of a credit card issued by Zania, Inc. will adhere to the strictest guidelines of responsibility'),\n",
       " Document(metadata={'source': 'handbook.pdf', 'page': 10}, page_content='for the protection and proper use of that card. Credit card purchases related to Company vehicle use (gas, oil, etc.) under\\n$100 do not require prior approval. Credit card purchases for vehicle use over $100 and any other business purchases over\\n$25 must receive prior approval from your Manager.\\nSubmit all sales receipts generated by use of the Company credit card [[weekly/monthly]] to your Manager [[or appropriate'),\n",
       " Document(metadata={'source': 'handbook.pdf', 'page': 10}, page_content=\"department]]. Your Company credit card may not be used for personal reasons. Use of the Company credit card is restricted\\nto approved business related expenses.\\nAny unauthorized purchases made with a credit card issued by the Company will be the cardholder's responsibility. You\\nmust reimburse any such purchase to the Company within [[#]] days.\\nImmediately report lost or stolen Company cards to your Manager. Failure to follow this policy may result in disciplinary\"),\n",
       " Document(metadata={'source': 'handbook.pdf', 'page': 10}, page_content='action up to and including discharge.\\n5.0 \\nPerformance, Discipline, Layoff, and Termination\\n5.1 \\nCriminal Activity/Arrests\\nZania, Inc. will report all criminal activity in accordance with applicable law. Involvement in criminal activity while employed\\nby the Company, whether on or off Company property, may result in disciplinary action including suspension or termination\\nof employment.'),\n",
       " Document(metadata={'source': 'handbook.pdf', 'page': 10}, page_content=\"of employment. \\nYou are expected to be on the job, ready to work, when scheduled. Inability to report to work as scheduled may lead to\\ndisciplinary action, up to and including termination of employment, for violation of an attendance policy or job abandonment.\\n5.2 \\nDisciplinary Process\\nViolation of Zania, Inc.'s policies or procedures may result in disciplinary action, including demotion, transfer, leave without\"),\n",
       " Document(metadata={'source': 'handbook.pdf', 'page': 10}, page_content='pay, or termination of employment. The Company encourages a system of progressive discipline depending on the type of\\nprohibited conduct. However, the Company is not required to engage in progressive discipline and may discipline or\\nterminate employees who violate the rules of conduct, or where the quality or value of their work fails to meet expectations at\\n11'),\n",
       " Document(metadata={'source': 'handbook.pdf', 'page': 11}, page_content='any time. Again, any attempt at progressive discipline does not imply that your employment is anything other than on an \"at-\\nwill\" basis consistent with applicable law. Note that the specific terms of your employment relationship, including termination\\nprocedures, are governed by the laws of the state in which you are employed.\\nIn appropriate circumstances, management will first provide you with a verbal warning, then with one or more written'),\n",
       " Document(metadata={'source': 'handbook.pdf', 'page': 11}, page_content='warnings, and if the conduct is not sufficiently altered, eventual demotion, transfer, forced leave, or termination of\\nemployment. Your Manager will make every effort possible to allow you to respond to any disciplinary action taken.\\nUnderstand that while the Company is concerned with consistent enforcement of our policies, we are not obligated to follow\\nany disciplinary or grievance procedure and, depending on the circumstances, you may be disciplined or terminated without'),\n",
       " Document(metadata={'source': 'handbook.pdf', 'page': 11}, page_content='any prior warning or procedure.\\n5.3 \\nExit Interview\\nYou may be asked to participate in an exit interview when you leave Zania, Inc.. The purpose of the exit interview is to\\nprovide management with greater insight into your decision to leave employment; identify any trends requiring attention or\\nopportunities for improvement; and to assist the Company in developing effective recruitment and retention strategies. Your\\ncooperation in the exit interview process is appreciated.\\n5.4'),\n",
       " Document(metadata={'source': 'handbook.pdf', 'page': 11}, page_content='cooperation in the exit interview process is appreciated.\\n5.4 \\nOpen Door/Conflict Resolution Process\\nZania, Inc. strives to provide a comfortable, productive, legal, and ethical work environment. To this end, we want you to\\nbring any problems, concerns, or grievances you have about the work place to the attention of your Manager and, if\\nnecessary, to Human Resources or upper level management. To help manage conflict resolution we have instituted the\\nfollowing problem solving procedure:'),\n",
       " Document(metadata={'source': 'handbook.pdf', 'page': 11}, page_content='following problem solving procedure:\\nIf you believe there is inappropriate conduct or activity on the part of the Company, management, its employees, vendors,\\ncustomers, or any other persons or entities related to the Company, bring your concerns to the attention of your Manager at\\na time and place that will allow the person to properly listen to your concern. Most problems can be resolved informally'),\n",
       " Document(metadata={'source': 'handbook.pdf', 'page': 11}, page_content='through dialogue between you and your immediate Manager. If you have already brought this matter to the attention of your\\nManager before and do not believe you have received a sufficient response, or if you believe that person is the source of the\\nproblem, present your concerns to Human Resources or upper level management. Describe the problem, those persons\\ninvolved in the problem, efforts you have made to resolve the problem, and any suggested solution you may have.\\n5.5 \\nOutside Employment'),\n",
       " Document(metadata={'source': 'handbook.pdf', 'page': 11}, page_content='5.5 \\nOutside Employment\\nOutside employment that creates a conflict of interest or that affects the quality or value of your work performance or\\navailability at Zania, Inc. is prohibited. The Company recognizes that you may seek additional employment during off hours,\\nbut in all cases expects that any outside employment will not affect your attendance, job performance, productivity, work'),\n",
       " Document(metadata={'source': 'handbook.pdf', 'page': 11}, page_content='hours, or scheduling, or would otherwise adversely affect your ability to effectively perform your duties or in any way create a\\nconflict of interest. Any outside employment that will conflict with your duties and obligations to the Company should be\\nreported to your Manager. Failure to adhere to this policy may result in discipline up to and including termination.\\n5.6 \\nPay Raises'),\n",
       " Document(metadata={'source': 'handbook.pdf', 'page': 11}, page_content='5.6 \\nPay Raises\\nDepending on financial health and other Company factors, efforts will be made to give pay raises consistent with Zania, Inc.\\nprofitability, job performance, and the consumer price index. The Company may also make individual pay raises based on\\nmerit or due to a change of job position.\\n5.7 \\nPerformance Improvement\\nZania, Inc. will make efforts to periodically review your work performance. The performance improvement process will take'),\n",
       " Document(metadata={'source': 'handbook.pdf', 'page': 11}, page_content='place [[annually, biannually, monthly, etc.]], or as business needs dictate. You may specifically request that your Manager\\nassist you in developing a performance improvement plan at any time.\\n12'),\n",
       " Document(metadata={'source': 'handbook.pdf', 'page': 12}, page_content='The performance improvement process is a means for increasing the quality and value of your work performance. Your\\ninitiative, effort, attitude, job knowledge, and other factors will be addressed. You must understand that a positive job\\nperformance review does not guarantee a pay raise or continued employment. Pay raises and promotions are based on\\nnumerous factors, only one of which is job performance.\\n5.8 \\nPost-Employment References'),\n",
       " Document(metadata={'source': 'handbook.pdf', 'page': 12}, page_content='numerous factors, only one of which is job performance.\\n5.8 \\nPost-Employment References\\nZania, Inc. policy is to confirm dates of employment and job title only. With written authorization, the Company will confirm\\ncompensation information when permissible by applicable law. Forward any requests for employment verification to [[Human\\nResources or appropriate department]].\\n5.9 \\nPromotions'),\n",
       " Document(metadata={'source': 'handbook.pdf', 'page': 12}, page_content='Resources or appropriate department]].\\n5.9 \\nPromotions\\nTo match you with the job for which you are best suited and to meet the business needs of Zania, Inc., you may be\\ntransferred from your current job. It is our policy to promote from within only when the most qualified candidate is available.\\nPromotions are made on an equal opportunity basis according to employees possessing the needed skills, education,\\nexperience, and other qualifications that are required for the job.'),\n",
       " Document(metadata={'source': 'handbook.pdf', 'page': 12}, page_content='experience, and other qualifications that are required for the job.\\n[[Optional: All employees promoted into new job positions will undergo an introductory period as described in the New Hires\\nand Introductory Periods policy. Unlike new hires, however, such employees will continue to receive Company benefits for\\nwhich they are eligible.]]\\n5.10 \\nResignation Policy\\nZania, Inc. hopes that your employment with the Company will be a mutually rewarding experience; however, the Company'),\n",
       " Document(metadata={'source': 'handbook.pdf', 'page': 12}, page_content=\"acknowledges that varying circumstances can cause you to resign employment. The Company intends to handle any\\nresignation in a professional manner with minimal disruption to the workplace.\\nNotice\\nThe Company requests that you provide a minimum of [[two weeks']] notice of your resignation. [[If you are a Manager, you\\nare requested to provide a minimum of [four weeks'] notice.]] Provide a written resignation letter to your Manager. If you\"),\n",
       " Document(metadata={'source': 'handbook.pdf', 'page': 12}, page_content='provide less notice than requested, the Company may deem you to be ineligible for rehire, depending on the circumstances\\nof the notice given. \\nThe Company reserves the right to provide you with pay in lieu of notice in situations where job or business needs warrant.\\nFinal Pay\\nThe Company will pay separated employees in accordance with applicable laws and other sections of this handbook.'),\n",
       " Document(metadata={'source': 'handbook.pdf', 'page': 12}, page_content='Notify the Company if your address changes during the calendar year in which resignation occurs to ensure tax information\\nis sent to the correct address.\\nReturn of Property\\nReturn all Company property at the time of separation, including [[list items to be returned, such as uniforms, cellphones,\\nkeys, tools, laptops, credit cards, and identification cards]]. Failure to return some items may result in deductions from your'),\n",
       " Document(metadata={'source': 'handbook.pdf', 'page': 12}, page_content='final paycheck where state law allows. [[In some circumstances, the Company may pursue criminal charges for failure to\\nreturn Company property.]]\\n5.11 \\nStandards of Conduct\\nZania, Inc. wishes to create a work environment that promotes job satisfaction, respect, responsibility, integrity, and value for\\nall our employees, clients, customers, and other stakeholders. We all share in the responsibility of improving the quality of\\n13'),\n",
       " Document(metadata={'source': 'handbook.pdf', 'page': 13}, page_content='our work environment. By deciding to work here, you agree to follow our rules.\\nWhile it is impossible to list everything that could be considered misconduct in the workplace, what is outlined here is a list of\\ncommon-sense infractions that could result in discipline, up to and including immediate termination of employment. This\\npolicy is not intended to limit our right to discipline or discharge employees for any reason permitted by law. \\nExamples of inappropriate conduct include:'),\n",
       " Document(metadata={'source': 'handbook.pdf', 'page': 13}, page_content='Examples of inappropriate conduct include:\\nViolation of the policies and procedures set forth in this handbook.\\nPossessing, using, distributing, selling, or negotiating the sale of illegal drugs or other controlled substances.\\nBeing under the influence of alcohol during working hours on Company property (including in Company vehicles), or on\\nCompany business.\\nInaccurate reporting of the hours worked by you or any other employees.'),\n",
       " Document(metadata={'source': 'handbook.pdf', 'page': 13}, page_content='Company business.\\nInaccurate reporting of the hours worked by you or any other employees.\\nProviding knowingly inaccurate, incomplete, or misleading information when speaking on behalf of the Company or in\\nthe preparation of any employment-related documents including, but not limited to, job applications, personnel files,\\nemployment review documents, intra-company communications, or expense records.\\nTaking or destroying Company property.'),\n",
       " Document(metadata={'source': 'handbook.pdf', 'page': 13}, page_content='Taking or destroying Company property.\\nPossession of potentially hazardous or dangerous property (where not permitted) such as firearms, weapons,\\nchemicals, etc., without prior authorization.\\nFighting with, or harassment of (as defined in our EEO policy), any fellow employee, vendor, or customer.\\nDisclosure of Company trade secrets and proprietary and confidential commercially-sensitive information (i.e. financial'),\n",
       " Document(metadata={'source': 'handbook.pdf', 'page': 13}, page_content='or sales records/reports, marketing or business strategies/plans, product development information, customer lists,\\npatents, trademarks, etc.) of the Company or its customers, contractors, suppliers, or vendors.\\nRefusal or failure to follow directions or to perform a requested or required job task.\\nRefusal or failure to follow safety rules and procedures.\\nExcessive tardiness or absences.\\nSmoking in nondesignated areas.\\nWorking unauthorized overtime.'),\n",
       " Document(metadata={'source': 'handbook.pdf', 'page': 13}, page_content='Excessive tardiness or absences.\\nSmoking in nondesignated areas.\\nWorking unauthorized overtime.\\nSolicitation of fellow employees on Company premises during working hours.\\nFailure to dress according to Company policy.\\nUse of obscene or harassing (as defined by our EEO policy) language in the workplace.\\nEngaging in outside employment that interferes with your ability to perform your job at this Company.\\nGambling on Company premises.'),\n",
       " Document(metadata={'source': 'handbook.pdf', 'page': 13}, page_content='Gambling on Company premises.\\nLending keys or keycards to Company property to unauthorized persons.\\nNothing in this policy is intended to limit your rights under the National Labor Relations Act, or to modify the at-will\\nemployment status where at-will is not prohibited by state law.\\n5.12 \\nTransfers\\nZania, Inc. may transfer your employment from one position to another with or without notice, as required by production or'),\n",
       " Document(metadata={'source': 'handbook.pdf', 'page': 13}, page_content='service needs, or upon request by you and with management approval. Transfers in excess of 90 days may be considered\\nfinal and your paycheck may be increased or decreased consistent with the pay scale for your new position.\\n5.13 \\nWorkforce Reductions (Layoffs)\\nIf necessary based upon business needs, Zania, Inc. management may decide to implement a reduction in force (RIF). We'),\n",
       " Document(metadata={'source': 'handbook.pdf', 'page': 13}, page_content='acknowledge that RIFs can be a trying experience for all involved, and the Company will make its best effort to make sound\\nbusiness decisions while acknowledging the needs of its workforce.\\n6.0 \\nGeneral Policies\\n6.1 \\nComputer Security and Copying of Software\\n14'),\n",
       " Document(metadata={'source': 'handbook.pdf', 'page': 14}, page_content='Software programs purchased and provided by Zania, Inc. are to be used only for creating, researching, and processing\\nmaterials for Company use. By using Company hardware, software, and networking systems you assume personal\\nresponsibility for their use and agree to comply with this policy and other applicable Company policies, as well as city, state,\\nand federal laws and regulations.'),\n",
       " Document(metadata={'source': 'handbook.pdf', 'page': 14}, page_content='and federal laws and regulations.\\nAll software acquired for or on behalf of the Company, or developed by Company employees or contract personnel on behalf\\nof the Company, is and will be deemed Company property. It is the policy of the Company to respect all computer software\\nrights and to adhere to the terms of all software licenses to which the Company is a party. The [[Director of Information\\nSystems]] is responsible for enforcing these guidelines.'),\n",
       " Document(metadata={'source': 'handbook.pdf', 'page': 14}, page_content=\"Systems]] is responsible for enforcing these guidelines.\\nYou may not illegally duplicate any licensed software or related documentation. Unauthorized duplication of software may\\nsubject you and/or the Company to both civil and criminal penalties under the United States Copyright Act. To purchase\\nsoftware, obtain your manager's approval. All software acquired by the Company must be purchased through [[Information\\nSystems or appropriate department]].\"),\n",
       " Document(metadata={'source': 'handbook.pdf', 'page': 14}, page_content='Systems or appropriate department]].\\nYou may not duplicate, copy, or give software to any outsiders including clients, contractors, customers, and others. You\\nmay use software on local area networks or on multiple machines only in accordance with applicable license agreements\\nentered into by the Company.\\n6.2 \\nEmployer Sponsored Social Events\\nZania, Inc. holds periodic social events for employees. Be advised that your attendance at these events is voluntary and'),\n",
       " Document(metadata={'source': 'handbook.pdf', 'page': 14}, page_content='does not constitute part of your work-related duties. Any exceptions to this policy must be in writing and signed by a\\nManager prior to the event.\\nAlcoholic beverages may be available at these events. If you choose to drink alcoholic beverages, you must do so in a\\nresponsible manner. Do not drink and drive. Instead, please call a taxi or appoint a designated driver.\\n6.3 \\nEmployer-Provided Cell Phones/Mobile Devices'),\n",
       " Document(metadata={'source': 'handbook.pdf', 'page': 14}, page_content='6.3 \\nEmployer-Provided Cell Phones/Mobile Devices\\nZania, Inc. may issue certain employees a Company cell phone/mobile device for work-related communications and/or\\noperations. If you drive a vehicle during your employment, you may not use any cell phone/mobile device or other\\ncommunication device while driving unless the device is equipped or configured with a \"hands-free\" listening/speaking\\noption, and you in fact utilize the hands-free device.'),\n",
       " Document(metadata={'source': 'handbook.pdf', 'page': 14}, page_content='option, and you in fact utilize the hands-free device. \\n[[We understand that you may use the cell phone/mobile device for personal use; however, such personal use should not\\nexceed the plan allowance. When the cell phone/mobile device is used for personal reasons and the activity results in\\nadditional cost to the Company, you are responsible for the cost of that usage, including all applicable taxes unless\\nprohibited by law.]]'),\n",
       " Document(metadata={'source': 'handbook.pdf', 'page': 14}, page_content='prohibited by law.]]\\nThe Company owns and remains entitled to all cell phone/mobile devices issued to employees, including all passwords\\ncontrolling access to them.\\nYou may not change those passwords except with permission. At the time of employment termination, all such equipment\\nand passwords must be returned to the Company in operable condition.\\nViolation of this policy may result in discipline, up to and including termination of employment.\\n6.4 \\nNonsolicitation/Nondistribution Policy'),\n",
       " Document(metadata={'source': 'handbook.pdf', 'page': 14}, page_content='6.4 \\nNonsolicitation/Nondistribution Policy\\nTo avoid disruption of business operations or disturbance of employees, visitors, and others, Zania, Inc. has implemented a\\nNonsolicitation/Nondistribution Policy. For purposes of this policy, \"solicitation\" includes, but is not limited to, selling items or\\nservices, requesting contributions, and soliciting or seeking to obtain membership in or support for any organization.'),\n",
       " Document(metadata={'source': 'handbook.pdf', 'page': 14}, page_content='Solicitation performed through verbal, written, or electronic means is covered by the Nonsolicitation/Nondistribution Policy.\\n15'),\n",
       " Document(metadata={'source': 'handbook.pdf', 'page': 15}, page_content='You are prohibited from soliciting other employees during your assigned working time. For this purpose, working time means\\ntime during which either you or the employees who are the object of the solicitation are expected to be actively engaged with\\nassigned work. You may conduct solicitations during your lunch period, coffee breaks, or other authorized nonworking time,\\nso long as you do so when the other employees are also on nonworking time.'),\n",
       " Document(metadata={'source': 'handbook.pdf', 'page': 15}, page_content=\"so long as you do so when the other employees are also on nonworking time.\\nTo avoid inappropriate litter, clutter, and safety risks, you may not distribute literature or other items that are not work related\\nin working areas at any time. Working areas do not include break/rest areas, lunch rooms, or parking lots. Electronic\\ndistribution of materials is prohibited during work time. Literature that violates the company's equal employment opportunity\"),\n",
       " Document(metadata={'source': 'handbook.pdf', 'page': 15}, page_content='(EEO) and nonharassment policies (including threats of violence), or is knowingly and recklessly false, is never permitted.\\nNon-employees are not permitted to distribute materials on company premises at any time. \\nThis policy is not intended to restrict the statutory rights of employees, including the right to discuss terms and conditions of\\nemployment. \\nViolations of this policy should be reported to your Manager.\\n6.5 \\nOff-Duty Use of Employer Property or Premises'),\n",
       " Document(metadata={'source': 'handbook.pdf', 'page': 15}, page_content='6.5 \\nOff-Duty Use of Employer Property or Premises\\nYou may not use Zania, Inc. property for personal use during working time. You are responsible for returning Company\\nproperty in good condition and repairing or replacing any property damaged as the result of personal use or as the result of\\nnegligence. This includes use of copy machines, computers, Company products, or office supplies for personal use without\\nprior authorization.'),\n",
       " Document(metadata={'source': 'handbook.pdf', 'page': 15}, page_content='prior authorization.\\nIt is Company policy to control off duty and nonworking hour use of Company facilities either for business or personal\\nreasons. You are prohibited from using Company facilities during off duty or nonworking hours without the written consent of\\nyour Manager. If you use Company facilities during your off-duty hours or Company off-hours, you may be required to sign a\\nlog-in and log-out sheet maintained by the Company or building manager.\\n6.6 \\nPersonal Appearance'),\n",
       " Document(metadata={'source': 'handbook.pdf', 'page': 15}, page_content='log-in and log-out sheet maintained by the Company or building manager.\\n6.6 \\nPersonal Appearance\\nYour personal appearance reflects on the reputation, integrity, and public image of Zania, Inc.. All employees are required to\\nreport to work neatly groomed and dressed. You are expected to maintain personal hygiene habits that are generally\\naccepted in the community, including clean clothing, good grooming and personal hygiene, and appropriate attire for the'),\n",
       " Document(metadata={'source': 'handbook.pdf', 'page': 15}, page_content='workplace and the work being performed. This may include wearing uniforms or protective safety clothing and equipment,\\ndepending upon the job. Use common sense and good judgment in determining what to wear to work. \\nFragrant products, including but not limited to perfumes, colognes, and scented body lotions or hair products, should be\\nused in moderation out of concern for others with sensitivities or allergies.'),\n",
       " Document(metadata={'source': 'handbook.pdf', 'page': 15}, page_content='used in moderation out of concern for others with sensitivities or allergies.\\nThe Company, in accordance with applicable law, will reasonably accommodate employees with disabilities or religious\\nbeliefs that make it difficult for them to comply fully with the personal appearance policy unless doing so would impose an\\nundue hardship on the Company. Contact your Manager to request a reasonable accommodation.'),\n",
       " Document(metadata={'source': 'handbook.pdf', 'page': 15}, page_content='undue hardship on the Company. Contact your Manager to request a reasonable accommodation.\\nFailure to comply with the personal appearance standards may result in being sent home to groom or change clothes.\\nFrequent violations may result in disciplinary action, up to and including termination of employment.\\n6.7 \\nPersonal Cell Phone/Mobile Device Use\\nWhile Zania, Inc. permits employees to bring personal cell phones and other mobile devices (i.e. smart phones, tablets,'),\n",
       " Document(metadata={'source': 'handbook.pdf', 'page': 15}, page_content='laptops) into the workplace, you must not allow the use of such devices to interfere with your job duties or impact workplace\\nsafety and health.\\n16'),\n",
       " Document(metadata={'source': 'handbook.pdf', 'page': 16}, page_content='Use of personal cell phones and mobile devices at work can be distracting and disruptive and cause a loss of productivity.\\nThus, you should primarily use such personal devices during nonworking time, such as breaks and meal periods. During this\\ntime, use devices in a manner that is courteous to those around you. Outside of nonworking time, use of such devices\\nshould be minimal and limited to emergency use only. If you have a device that has a camera and/or audio/video recording'),\n",
       " Document(metadata={'source': 'handbook.pdf', 'page': 16}, page_content='capability, you are restricted from using those functions on Company property unless authorized in advance by management\\nor when they are used in a manner consistent with your right to engage in concerted activity under section 7 of the National\\nLabor Relations Act (NLRA).\\nYou are expected to comply with Company policies regarding the protection of confidential and proprietary information when\\nusing personal devices.'),\n",
       " Document(metadata={'source': 'handbook.pdf', 'page': 16}, page_content=\"using personal devices.\\nWhile operating a vehicle on work time, the Company requires that the driver's personal cell phone/mobile device be turned\\noff. If you need to make or receive a phone call while driving, pull off the road to a safe location unless you have the correct\\nhands-free equipment for the device that is in compliance with applicable state laws.\\nYou [[may/may not]] connect your personal device to the Company network or to Company equipment (computers, printers,\"),\n",
       " Document(metadata={'source': 'handbook.pdf', 'page': 16}, page_content='etc.). [[If permitted, describe allowable use and any restrictions.]]\\nYou may have the opportunity to use your personal devices for work purposes. Before using a personal device for work-\\nrelated purposes, you must obtain written authorization from [[IT, management, human resources, etc.]]. The use of personal\\ndevices is limited to certain employees and may be limited based on compatibility of technology. To ensure the security of'),\n",
       " Document(metadata={'source': 'handbook.pdf', 'page': 16}, page_content='Company information, [[Set forth security policies related to specific devices, for example, any software requirements\\n(antivirus, firewall, VPN, etc.). Include details on how information will be removed from a device upon termination of\\nemployment]]. If you are authorized to use a personal device, you will receive a monthly stipend based on the estimated use\\nof the device. If you obtain or currently have a plan that exceeds the monthly stipend, the Company will not be liable for the'),\n",
       " Document(metadata={'source': 'handbook.pdf', 'page': 16}, page_content='cost difference.\\nNothing in this policy is intended to prevent employees from engaging in protected concerted activity under the NLRA.\\nYou will be subject to disciplinary action up to and including termination of employment for violation of this policy.\\n6.8 \\nPersonal Data Changes\\nIt is your obligation to provide Zania, Inc. with your current contact information, including current mailing address and'),\n",
       " Document(metadata={'source': 'handbook.pdf', 'page': 16}, page_content='telephone number. You should also inform the Company of any changes to your tax withholding status. Failure to do so may\\nresult in loss of benefits or delayed receipt of W-2 and other mailings. To make changes to this information, contact\\n[[appropriate person or department]].\\n6.9 \\nSecurity\\nAll employees are responsible for helping to make Zania, Inc. a secure work environment. Upon leaving work, lock all desks,'),\n",
       " Document(metadata={'source': 'handbook.pdf', 'page': 16}, page_content='lockers, and doors protecting valuable or sensitive material in your work area and report any lost or stolen keys, passes, or\\nsimilar devices to your Manager immediately. Refrain from discussing specifics regarding Company security systems,\\nalarms, passwords, etc. with those outside of the Company.\\nImmediately advise your Manager of any known or potential security risks and/or suspicious conduct of employees,'),\n",
       " Document(metadata={'source': 'handbook.pdf', 'page': 16}, page_content='customers, or guests of the Company. Safety and security is the responsibility of all employees and we rely on you to help\\nus keep our premises secure.\\n6.10 \\nSocial Media\\nAt Zania, Inc., we recognize the Internet provides unique opportunities to participate in interactive discussions and share\\ninformation using a wide variety of social media. However, use of social media also presents certain risks and carries with it\\n17'),\n",
       " Document(metadata={'source': 'handbook.pdf', 'page': 17}, page_content=\"certain responsibilities. To minimize risks to the Company, you are expected to follow our guidelines for appropriate use of\\nsocial media.\\nThis policy applies to all employees who work for the Company.\\nGuidelines\\nFor purposes of this policy, \\nsocial media\\n includes all means of communicating or posting information or content of any sort\\non the Internet, including to your own or someone else's web log or blog, journal or diary, personal website, social\"),\n",
       " Document(metadata={'source': 'handbook.pdf', 'page': 17}, page_content='networking or affinity website, web bulletin board or a chat room, whether associated or affiliated with the Company, as well\\nas any other form of electronic communication.\\nCompany principles, guidelines, and policies apply to online activities just as they apply to other areas of work. Ultimately,\\nyou are solely responsible for what you communicate in social media. You may be personally responsible for any litigation'),\n",
       " Document(metadata={'source': 'handbook.pdf', 'page': 17}, page_content='that may arise should you make unlawful defamatory, slanderous, or libelous statements against any customer, manager,\\nowner, or employees of the Company.\\nKnow and Follow the Rules\\nEnsure your postings are consistent with these guidelines. Postings that include unlawful discriminatory remarks,\\nharassment, and threats of violence or other unlawful conduct will not be tolerated and may subject you to disciplinary action\\nup to and including termination.\\nBe Respectful'),\n",
       " Document(metadata={'source': 'handbook.pdf', 'page': 17}, page_content='up to and including termination.\\nBe Respectful\\nThe Company cannot force or mandate respectful and courteous activity by employees on social media during nonworking\\ntime. If you decide to post complaints or criticism, avoid using statements, photographs, video, or audio that reasonably\\ncould be viewed as unlawful, slanderous, threatening, or that might constitute unlawful harassment. Examples of such'),\n",
       " Document(metadata={'source': 'handbook.pdf', 'page': 17}, page_content=\"conduct might include defamatory or slanderous posts meant to harm someone's reputation or posts that could contribute to\\na hostile work environment on the basis of race, sex, disability, age, national origin, religion, veteran status, or any other\\nstatus or class protected by law or Company policy. Your personal posts and social media activity should not reflect upon or\\nrefer to the Company.\\nMaintain Accuracy and Confidentiality\\nWhen posting information:\"),\n",
       " Document(metadata={'source': 'handbook.pdf', 'page': 17}, page_content='refer to the Company.\\nMaintain Accuracy and Confidentiality\\nWhen posting information:\\nMaintain the confidentiality of trade secrets, intellectual property, and confidential commercially-sensitive information\\n(i.e. financial or sales records/reports, marketing or business strategies/plans, product development, customer lists,\\npatents, trademarks, etc.) related to the Company.\\nDo not create a link from your personal blog, website, or other social networking site to a Company website that'),\n",
       " Document(metadata={'source': 'handbook.pdf', 'page': 17}, page_content='identifies you as speaking on behalf of the Company.\\nNever represent yourself as a spokesperson for the Company. If the Company is a subject of the content you are\\ncreating, do not represent yourself as speaking on behalf of the Company. Make it clear in your social media activity\\nthat you are speaking on your own behalf.\\nRespect copyright, trademark, third-party rights, and similar laws and use such protected information in compliance\\nwith applicable legal standards.\\nUsing Social Media at Work'),\n",
       " Document(metadata={'source': 'handbook.pdf', 'page': 17}, page_content='with applicable legal standards.\\nUsing Social Media at Work\\nDo not use social media while on your work time, unless it is work related as authorized by your manager or consistent with\\npolicies that cover equipment owned by the Company.\\nMedia Contacts\\nIf you are not authorized to speak on behalf of the Company, do not speak to the media on behalf of the Company. Direct all\\nmedia inquiries for official Company responses to Human Resources.\\n18'),\n",
       " Document(metadata={'source': 'handbook.pdf', 'page': 18}, page_content='Retaliation and Your Rights\\nRetaliation or any other negative action is prohibited against anyone who, based on a reasonable belief, reports a possible\\ndeviation from this policy or cooperates in an investigation. Those who retaliate against others for reporting a possible\\ndeviation from this policy or for cooperating in an investigation will be subject to disciplinary action, up to and including\\ntermination.'),\n",
       " Document(metadata={'source': 'handbook.pdf', 'page': 18}, page_content='termination.\\nNothing in this policy is designed to interfere with, restrain, or prevent employees from communications regarding wages,\\nhours, or other terms and conditions of employment, or to restrain employees in exercising any other right protected by law.\\nAll employees have the right to engage in or refrain from such activities.\\n6.11 \\nThird Party Disclosures\\nFrom time to time, Zania, Inc. may become involved in news stories or potential or actual legal proceedings of various kinds.'),\n",
       " Document(metadata={'source': 'handbook.pdf', 'page': 18}, page_content='When that happens, lawyers, former employees, newspapers, law enforcement agencies, and other outside persons may\\ncontact our employees to obtain information about the incident or the actual or potential lawsuit.\\nIf you receive such a contact, you should not speak on behalf of the Company and should refer any call requesting the\\nposition of the Company to [[media contact person]]. If you have any questions about this policy or are not certain what to do'),\n",
       " Document(metadata={'source': 'handbook.pdf', 'page': 18}, page_content='when such a contact is made, contact [[media contact person]].\\n6.12 \\nUse of Company Technology\\nThis policy is intended to provide Zania, Inc. employees with the guidelines associated with the use of the Company\\ninformation technology (IT) resources and communications systems. \\nThis policy governs the use of all IT resources and communications systems owned by or available at the Company, and all'),\n",
       " Document(metadata={'source': 'handbook.pdf', 'page': 18}, page_content='use of such resources and systems when accessed using your own devices, including but not limited to:\\n[[List items, such as:\\nEmail systems and accounts.\\nInternet and intranet access.\\nTelephones and voicemail systems, including wired and mobile phones, smartphones, and pagers.\\nPrinters, photocopiers, and scanners.\\nFax machines, e-fax systems, and modems.\\nAll other associated computer, network, and communications systems, hardware, peripherals, and software, including'),\n",
       " Document(metadata={'source': 'handbook.pdf', 'page': 18}, page_content='network key fobs and other devices.\\nClosed-circuit television (CCTV) and all other physical security systems and devices, including access key cards and\\nfobs.]]\\nGeneral Provisions\\nCompany IT resources and communications systems are to be used for business purposes only unless otherwise permitted\\nunder applicable law. \\nAll content maintained in Company IT resources and communications systems are the property of the Company. Therefore,'),\n",
       " Document(metadata={'source': 'handbook.pdf', 'page': 18}, page_content='employees should have no expectation of privacy in any message, file, data, document, facsimile, telephone conversation,\\nsocial media post, conversation, or any other kind or form of information or communication transmitted to, received, or\\nprinted from, or stored or recorded on Company electronic information and communications systems.\\nThe Company reserves the right to monitor, intercept, and/or review all data transmitted, received, or downloaded over'),\n",
       " Document(metadata={'source': 'handbook.pdf', 'page': 18}, page_content='Company IT resources and communications systems in accordance with applicable law. Any individual who is given access\\nto the system is hereby given notice that the Company will exercise this right periodically, without prior notice and without\\n19'),\n",
       " Document(metadata={'source': 'handbook.pdf', 'page': 19}, page_content='prior consent.\\nThe interests of the Company in monitoring and intercepting data include, but are not limited to: protection of Company trade\\nsecrets, proprietary information, and similar confidential commercially-sensitive information (i.e. financial or sales\\nrecords/reports, marketing or business strategies/plans, product development, customer lists, patents, trademarks, etc.);'),\n",
       " Document(metadata={'source': 'handbook.pdf', 'page': 19}, page_content='managing the use of the computer system; and/or assisting employees in the management of electronic data during periods\\nof absence.\\nYou should not interpret the use of password protection as creating a right or expectation of privacy, nor should you have a\\nright or expectation of privacy regarding the receipt, transmission, or storage of data on Company IT resources and\\ncommunications systems.'),\n",
       " Document(metadata={'source': 'handbook.pdf', 'page': 19}, page_content='communications systems.\\nDo not use Company IT resources and communications systems for any matter that you would like to be kept private or\\nconfidential.\\nViolations\\nIf you violate this policy, you will be subject to corrective action, up to and including termination of employment. If necessary,\\nthe Company will also advise law enforcement officials of any illegal conduct.\\n6.13 \\nWorkplace Privacy and Right to Inspect'),\n",
       " Document(metadata={'source': 'handbook.pdf', 'page': 19}, page_content='6.13 \\nWorkplace Privacy and Right to Inspect\\nZania, Inc. property, including but not limited to lockers, phones, computers, tablets, desks, work place areas, vehicles, or\\nmachinery, remains under the control of the Company and is subject to inspection at any time, without notice to any\\nemployees, and without their presence. \\nYou should have no expectation of privacy in any of these areas. We assume no responsibility for the loss of, or damage to,'),\n",
       " Document(metadata={'source': 'handbook.pdf', 'page': 19}, page_content='your property maintained on Company premises including that kept in lockers and desks.\\n7.0 \\nBenefits\\n7.1 \\nBereavement Leave\\nZania, Inc. recognizes the importance of taking leave when there is a death in the family. Where bereavement leave is not\\nrequired by law, the Company will provide bereavement leave as follows: \\n[[All employees [who have completed # days/weeks/months of service] are eligible for [# day(s)] of [paid/unpaid]\\nbereavement leave for the death of an immediate family member.]]'),\n",
       " Document(metadata={'source': 'handbook.pdf', 'page': 19}, page_content='bereavement leave for the death of an immediate family member.]]\\n[[OR]]\\n[[Full-time employees [who have completed # days/weeks/months of service] are eligible for [# day(s)] of [paid/unpaid]\\nbereavement leave for the death of an immediate family member.]]\\n[[Part-time employees [who have completed # days/weeks/months of service] are eligible for [# day(s)] of [paid/unpaid]\\nbereavement leave for the death of an immediate family member.]]'),\n",
       " Document(metadata={'source': 'handbook.pdf', 'page': 19}, page_content='bereavement leave for the death of an immediate family member.]] \\n[[Part-time employees [who have completed # days/weeks/months of service] are eligible for [# day(s)] of [paid/unpaid]\\nbereavement leave for the death of an immediate family member in proportion to the number of hours they are regularly\\nscheduled to work. For example, a part-time employee regularly scheduled to work 20 hours per week is eligible for [one half'),\n",
       " Document(metadata={'source': 'handbook.pdf', 'page': 19}, page_content='the number of days indicated for full-time employees] of bereavement leave.]]\\nYou may use accrued but unused [[vacation/sick leave/paid time off]] if additional time is needed. [[Additional unpaid time off\\n20'),\n",
       " Document(metadata={'source': 'handbook.pdf', 'page': 20}, page_content=\"may be granted at the discretion of the Company on a case-by-case basis.]]\\nFor purposes of this policy, \\nimmediate family member\\n includes the following and applies both to the family of the employee\\nand the employee's spouse: [[child (including foster child and stepchild), spouse, sister, brother, parents (including foster\\nparents and stepparents), grandparents]]. \\nYou must provide notice of your need for bereavement leave as far in advance as possible. The Company may require\"),\n",
       " Document(metadata={'source': 'handbook.pdf', 'page': 20}, page_content='documentation supporting your need for bereavement leave.\\n7.2 \\nHolidays\\nZania, Inc. offers the following paid holidays each year: [[list all paid holidays]].\\nWhen a holiday falls on a Saturday, it will be observed the preceding Friday. Holidays falling on a Sunday will be observed\\nthe following Monday.\\nIf a holiday falls on your regular day off, ask your Manager how it affects you. \\nYou will be compensated for holidays in accordance with federal and state law.\\n7.3 \\nMilitary Leave (USERRA)'),\n",
       " Document(metadata={'source': 'handbook.pdf', 'page': 20}, page_content='7.3 \\nMilitary Leave (USERRA)\\nZania, Inc. complies with applicable federal and state law regarding military leave and re-employment rights. A military leave\\nof absence will be granted to members of the uniformed services in accordance with the Uniformed Services Employment\\nand Reemployment Rights Act of 1994 (USERRA, with amendments) and all applicable state law. You must submit'),\n",
       " Document(metadata={'source': 'handbook.pdf', 'page': 20}, page_content='documentation of the need for leave to [[Human Resources or appropriate department]]. When returning from military leave\\nof absence, you will be reinstated to your previous position or a similar position, in accordance with state and federal law.\\nYou must notify your Manager of your intent to return to employment based on requirements of the law. For more\\ninformation regarding status, compensation, benefits, and reinstatement upon return from military leave, contact [[Human'),\n",
       " Document(metadata={'source': 'handbook.pdf', 'page': 20}, page_content='Resources or appropriate department]].\\n7.4 \\nPaid Time Off (PTO)\\nZania, Inc. provides employees with paid time off (PTO). PTO may be used for [[vacation, sick time, or other personal\\nmatters]].\\nEligibility\\nAll [[full-time regular]] employees are eligible to receive PTO [[immediately upon hire/upon completion of the introductory\\nperiod/after completing # days of employment]].\\nDeposits Into Your Leave Account'),\n",
       " Document(metadata={'source': 'handbook.pdf', 'page': 20}, page_content='period/after completing # days of employment]].\\nDeposits Into Your Leave Account\\nPTO is calculated according to [[your work anniversary year/the calendar year/the fiscal year, which begins on [date] and\\nends on [date] ]]. \\n[[\\nEMPLOYERS MUST CHOOSE ONE\\n:]]\\n[[\\nOption 1\\n:]]\\nThe amount of PTO received each year is based on your length of service and [[is granted in a lump sum at the beginning of'),\n",
       " Document(metadata={'source': 'handbook.pdf', 'page': 20}, page_content='each year/accrues according to an accrual schedule determined by the Company up to a maximum annual grant as shown\\nbelow:]]\\nFirst year of employment: [[# hours/days/weeks]] annually.\\n21'),\n",
       " Document(metadata={'source': 'handbook.pdf', 'page': 21}, page_content='Second and third year of employment: [[# hours/days/weeks]] annually.\\nThird through fifth year of employment: [[# hours/days/weeks]] annually.\\nOver five years of employment: [[# hours/days/weeks]] annually.\\nPart-time regular employees receive PTO time in proportion to their work schedule.\\nPTO granted during your first year of employment will be prorated based on your hire date.\\n[[\\nOR\\n]]\\n[[\\nOption 2\\n:]]'),\n",
       " Document(metadata={'source': 'handbook.pdf', 'page': 21}, page_content='[[\\nOR\\n]]\\n[[\\nOption 2\\n:]]\\nAll eligible employees will accrue [[# hours/days/weeks]] of PTO for every [[period of time]] worked, up to a maximum\\naccrual of [[# hours/days/weeks]]. \\nOnce you reach the maximum accrual amount, you will not accrue any additional PTO until you use some of the accrued but\\nunused PTO and the amount falls below the maximum accrual amount. You will not receive retroactive credit for any period\\nof time in which you did not accrue PTO because you accrued the maximum amount.'),\n",
       " Document(metadata={'source': 'handbook.pdf', 'page': 21}, page_content='of time in which you did not accrue PTO because you accrued the maximum amount.\\nLeave Usage and Requests for Leave\\nThe Company encourages you to use your PTO time. You are eligible to begin using PTO [[immediately upon hire/upon\\ncompletion of your introductory period/as soon as it is received /after # days of employment]].\\nYou must request PTO from your Manager as far in advance as possible, but at least [[# days/weeks]] in advance. The'),\n",
       " Document(metadata={'source': 'handbook.pdf', 'page': 21}, page_content='Company will generally grant requests for PTO when possible, taking business needs into consideration. [[When multiple\\nemployees request the same time off, their [[length of employment/seniority/collective-bargaining agreement]] may\\ndetermine priority in scheduling PTO times.\\nYou must take PTO in increments of at least [[# of hours/days]].\\nDuring a Leave of Absence\\nThe Company may require you to use any unused PTO during disability or family medical leave, or any other leave of'),\n",
       " Document(metadata={'source': 'handbook.pdf', 'page': 21}, page_content='absence, where permissible under local, state, and federal law.\\n[[EMPLOYERS WHO USE AN ACCRUAL METHOD MUST ADD THE FOLLOWING LANGUAGE: You will not accrue PTO\\nduring unpaid leaves of absence, or other periods of inactive service, unless PTO accrual is required by applicable federal,\\nstate, or local law.]]\\nCarryover\\n[[EMPLOYERS MUST CHOOSE ONE:]]\\n[[Unused PTO can be carried over to the following year [\\nYou may want to explain conditions for carryover:\\n e.g., on or'),\n",
       " Document(metadata={'source': 'handbook.pdf', 'page': 21}, page_content='You may want to explain conditions for carryover:\\n e.g., on or\\nabout your anniversary date/at the beginning of the following [calendar/fiscal] year].]] [[The Company may elect to offer\\npayment for the unused time [on or about your anniversary date/at the beginning of the following [calendar/fiscal] year].]]\\n[[OR]]\\n[[OPTIONAL LANGUAGE FOR ALL STATES EXCEPT CALIFORNIA, COLORADO, MONTANA, AND NEBRASKA. DO\\nNOT USE THIS LANGUAGE FOR CALIFORNIA, COLORADO, MONTANA, OR NEBRASKA HANDBOOKS.]]'),\n",
       " Document(metadata={'source': 'handbook.pdf', 'page': 21}, page_content='NOT USE THIS LANGUAGE FOR CALIFORNIA, COLORADO, MONTANA, OR NEBRASKA HANDBOOKS.]]\\n[[You may not carry over unused PTO] to the following year. Any unused PTO will be forfeited [on or about your anniversary\\ndate/at the end of the [calendar/fiscal] year].]]\\n22'),\n",
       " Document(metadata={'source': 'handbook.pdf', 'page': 22}, page_content='Separation of Employment\\nUpon separation of employment for any reason, you will [[forfeit any earned but unused PTO time unless state law dictates\\notherwise/will be paid for earned but unused PTO time]].\\n7.5 \\nPersonal Leave of Absence\\nZania, Inc. recognizes that you may need time off from work in special circumstances that other leave policies may not\\naddress. In such cases, you may request a personal leave of absence.\\nEligibility'),\n",
       " Document(metadata={'source': 'handbook.pdf', 'page': 22}, page_content='address. In such cases, you may request a personal leave of absence.\\nEligibility\\nAll [[regular/full-time/part-time]] employees employed for at least [[# days/months]] are eligible to apply for an unpaid\\npersonal leave of absence.\\nRequesting Leave\\nRequests for unpaid personal leave must be submitted to your Manager [[and/or appropriate department]] in writing at least\\n[[# days]] in advance where practical. In emergency situations, written notice must be provided as soon as possible. The'),\n",
       " Document(metadata={'source': 'handbook.pdf', 'page': 22}, page_content='request should include the reason for the leave as well as the dates you expect to begin and end the leave.\\nJob performance, absenteeism, and departmental requirements will be taken into consideration before a request is\\napproved. Requests for unpaid personal leave may be denied or granted for any reason and are within the sole discretion of\\nthe Company. \\n[[You will be required to use all available paid leave balances prior to taking an unpaid personal leave of absence/You may'),\n",
       " Document(metadata={'source': 'handbook.pdf', 'page': 22}, page_content='substitute any applicable and available paid leave for all or a portion of your unpaid personal leave.]]\\n[[Sick leave, PTO, vacation time, seniority, or other benefits]] will not accrue during an unpaid personal leave of absence.\\nHolidays that occur during an unpaid personal leave of absence will not be paid.\\nIf you are granted a personal leave of absence, reinstatement to your position or any position is not guaranteed. \\n[[# Benefits While on Leave]]'),\n",
       " Document(metadata={'source': 'handbook.pdf', 'page': 22}, page_content='[[# Benefits While on Leave]]\\n[[Your Company-provided [health] benefits will be continued at the same level and under the same conditions as prior to the\\nleave, for up to [# weeks/months as shown in the benefit plan document]. You are responsible for payment of your portion of\\nthe insurance premium while on personal leave.]]\\n[[If you are on a personal leave of absence that exceeds [# weeks/months as shown in the benefit plan document], or you'),\n",
       " Document(metadata={'source': 'handbook.pdf', 'page': 22}, page_content='fail to pay your premium payment in a timely manner, the Company will provide you with information about your rights under\\nCOBRA and/or applicable state continuation coverage policies.]]\\nExtension of Leave\\nYou are required to return from unpaid personal leave on the originally scheduled return date. If you are unable to return,\\nyou must request an extension of the leave in writing at least [[# days/weeks]] in advance of the return date. Leave'),\n",
       " Document(metadata={'source': 'handbook.pdf', 'page': 22}, page_content=\"extensions will be considered on a case-by-case basis. If the Company denies the extension request, you must return to\\nwork on the originally scheduled return date or be considered to have voluntarily resigned from your employment.\\nReturn to Work\\nIn advance of your scheduled return date, [[your Manager or appropriate department]] will arrange for you to resume your\\nprevious position, if available. However, the Company's need to fill a position may override the ability to hold a position open\"),\n",
       " Document(metadata={'source': 'handbook.pdf', 'page': 22}, page_content='until your return. Therefore, we cannot assure our ability to reinstate you to any position after your leave. The Company\\n23'),\n",
       " Document(metadata={'source': 'handbook.pdf', 'page': 23}, page_content='retains the discretion to determine the similarity of any available positions and your qualifications. If we are unable to\\nreinstate you or you refuse the offer of reinstatement to a different position, your leave status will be changed to a voluntary\\ntermination.\\nFailure to Return from Leave\\nIf you fail to return to work after an unpaid leave of absence, you will be considered to have resigned your employment.\\nAlternative Employment'),\n",
       " Document(metadata={'source': 'handbook.pdf', 'page': 23}, page_content='Alternative Employment\\nWhile on an unpaid leave of absence, you may not work or be gainfully employed either for yourself or others unless\\nexpress, written permission to perform such outside work has been granted by the Company. If you are on a leave of\\nabsence and are found to be working elsewhere without permission, you will be subject to disciplinary action up to and\\nincluding termination.\\n7.6 \\nSick Pay'),\n",
       " Document(metadata={'source': 'handbook.pdf', 'page': 23}, page_content='including termination.\\n7.6 \\nSick Pay\\nZania, Inc. allows its regular full-time employees who have completed their introductory period [[#]] sick days per calendar\\nyear. Notify your Manager as far in advance as possible if you are going to take sick time off. There may be occasions, such\\nas sudden illness, when you cannot notify your Manager in advance. In those situations, provide notification of your'),\n",
       " Document(metadata={'source': 'handbook.pdf', 'page': 23}, page_content='circumstances as soon as possible. You may also be requested to provide a certificate of illness to your Manager.\\nYou may use sick leave benefits for dental or doctor visits or to care for immediate family members who are sick. There may\\nalso be state mandated use of sick time. Unused sick days may not be converted to a cash payment. You may be required\\nto use available sick leave during family and medical leave, disability leave, or other leave.'),\n",
       " Document(metadata={'source': 'handbook.pdf', 'page': 23}, page_content='to use available sick leave during family and medical leave, disability leave, or other leave.\\n[[Sick time accumulation will be capped at a total of [#] days per year.]]\\n7.7 \\nVacation\\nZania, Inc. provides employees with paid vacation.\\nEligibility\\nAll [[full-time regular]] employees are eligible to receive vacation time [[immediately upon hire/upon completion of the\\nintroductory period/after completing # days of employment]].\\nDeposits Into Your Leave Account'),\n",
       " Document(metadata={'source': 'handbook.pdf', 'page': 23}, page_content='introductory period/after completing # days of employment]].\\nDeposits Into Your Leave Account\\nVacation is calculated according to [[your work anniversary year/the calendar year/the fiscal year, which begins on [date]\\nand ends on [date]]]. \\n[[\\nEMPLOYERS MUST CHOOSE ONE\\n:]]\\n[[\\nOption 1\\n:]]\\nThe amount of vacation received each year is based on your length of service and [[is granted in a lump sum at the'),\n",
       " Document(metadata={'source': 'handbook.pdf', 'page': 23}, page_content='beginning of each year/accrues according to an accrual schedule determined by the Company up to a maximum annual\\ngrant as shown below]]:\\nFirst year of employment: [[# hours/days/weeks]] annually.\\nSecond and third year of employment: [[# hours/days/weeks]] annually.\\nThird through fifth year of employment: [[# hours/days/weeks]] annually.\\nOver five years of employment: [[# hours/days/weeks]] annually.\\nPart-time regular employees receive vacation time in proportion to their work schedule.\\n24'),\n",
       " Document(metadata={'source': 'handbook.pdf', 'page': 24}, page_content='Vacation granted during your first year of employment will be prorated based on your hire date.\\n[[\\nOR\\n]]\\n[[\\nOption 2\\n:]]\\nAll eligible employees will accrue [[# hours/days/weeks]] of vacation for every [[period of time]] worked, up to a maximum\\naccrual of [[# hours/days/weeks]]. \\nOnce you reach the maximum accrual amount, you will not accrue any additional vacation until you use some of the accrued'),\n",
       " Document(metadata={'source': 'handbook.pdf', 'page': 24}, page_content='but unused vacation and the amount falls below the maximum accrual amount. You will not receive retroactive credit for any\\nperiod of time in which you did not accrue vacation because you accrued the maximum amount.\\nLeave Usage and Requests for Leave\\nThe Company encourages you to use your vacation time. You are eligible to begin using vacation [[immediately upon\\nhire/upon completion of your introductory period/as soon as it is received /after # days of employment]].'),\n",
       " Document(metadata={'source': 'handbook.pdf', 'page': 24}, page_content='You must request vacation from your Manager as far in advance as possible, but at least [[# days/weeks]] in advance. The\\nCompany will generally grant requests for vacation when possible, taking business needs into consideration. When multiple\\nemployees request the same time off, their [[length of employment/seniority/collective-bargaining agreement]] may\\ndetermine priority in scheduling vacation times.\\nYou must take vacation in increments of at least [[# of hours/days]].'),\n",
       " Document(metadata={'source': 'handbook.pdf', 'page': 24}, page_content='You must take vacation in increments of at least [[# of hours/days]].\\nDuring a Leave of Absence\\nThe Company may require you to use any unused vacation during disability or family medical leave, or any other leave of\\nabsence, where permissible under local, state, and federal law.\\n[[\\nEMPLOYERS WHO USE AN ACCRUAL METHOD MUST ADD THE FOLLOWING LANGUAGE:\\n You will not accrue\\nvacation during unpaid leaves of absence, or other periods of inactive service, unless vacation accrual is required by'),\n",
       " Document(metadata={'source': 'handbook.pdf', 'page': 24}, page_content='applicable federal, state, or local law.]]\\nCarryover\\n[[\\nEMPLOYERS MUST CHOOSE ONE:\\n]]\\n[[Unused vacation can be carried over to the following year [\\nYou may want to explain conditions for carryover:\\n e.g., on\\nor about your anniversary date/at the beginning of the following [calendar/fiscal] year].]] [[The Company may elect to offer\\npayment for the unused time [on or about your anniversary date/at the beginning of the following [calendar/fiscal] year].]]\\n[[\\nOR\\n]]\\n[['),\n",
       " Document(metadata={'source': 'handbook.pdf', 'page': 24}, page_content='[[\\nOR\\n]]\\n[[\\nOPTIONAL LANGUAGE FOR ALL STATES EXCEPT CALIFORNIA, COLORADO, MONTANA, AND NEBRASKA. DO\\nNOT USE THIS LANGUAGE FOR CALIFORNIA, COLORADO, MONTANA, OR NEBRASKA HANDBOOKS.\\n]]\\n[[You may not carry over unused vacation to the following year. Any unused vacation will be forfeited [on or about your\\nanniversary date/at the end of the [calendar/fiscal] year].]]\\nSeparation of Employment'),\n",
       " Document(metadata={'source': 'handbook.pdf', 'page': 24}, page_content='anniversary date/at the end of the [calendar/fiscal] year].]]\\nSeparation of Employment\\nUpon separation of employment for any reason, you will [[forfeit any earned but unused [vacation time] unless state law\\ndictates otherwise/will be paid for earned but unused [vacation time].]]\\n25'),\n",
       " Document(metadata={'source': 'handbook.pdf', 'page': 25}, page_content=\"7.8 \\nWorkers' Compensation Insurance\\nWorkers' compensation is a no-fault system designed to provide benefits to all employees for work-related injuries. Workers'\\ncompensation insurance coverage is paid for by employers and governed by state law. The workers' compensation system\\nprovides for coverage of medical treatment and expenses, occupational disability leave, and rehabilitation services, as well\"),\n",
       " Document(metadata={'source': 'handbook.pdf', 'page': 25}, page_content=\"as payment for lost wages due to work related injuries. If you are injured on the job while working at Zania, Inc., no matter\\nhow slightly, you are to report the incident immediately to your Manager. Consistent with applicable state law, failure to\\nreport an injury within a reasonable period of time could jeopardize your claim for benefits.\\nTo receive workers' compensation benefits, notify your Manager immediately of your claim. If your injury is the result of an\"),\n",
       " Document(metadata={'source': 'handbook.pdf', 'page': 25}, page_content='on-the-job accident, you must fill out an accident report. You will be required to submit a medical release before you can\\nreturn to work.\\n8.0 \\nSafety and Loss Prevention\\n8.1 \\nDrug and Alcohol Policy\\nZania, Inc. is committed to providing a safe, healthy, and productive work environment. Consistent with this commitment, it is\\nthe intent of the Company to maintain a drug and alcohol-free workplace. Being under the influence of alcohol, illegal drugs'),\n",
       " Document(metadata={'source': 'handbook.pdf', 'page': 25}, page_content='(as classified under federal, state, or local laws), or other impairing substances while on the job may pose a serious health\\nand safety risk to others, and will not be tolerated.\\nProhibited Conduct\\nThe Company expressly prohibits employees from engaging in the following activities when they are on duty or conducting\\nCompany business or on Company premises (whether or not they are working):\\nThe use, abuse, or being under the influence of alcohol, illegal drugs, or other impairing substances.'),\n",
       " Document(metadata={'source': 'handbook.pdf', 'page': 25}, page_content='The possession, sale, purchase, transfer, or transit of any illegal or unauthorized drug, including prescription\\nmedication that is not prescribed to the individual, or drug-related paraphernalia.\\nThe illegal use or abuse of prescription drugs.\\nWhile the use of marijuana has been legalized under some state laws for medicinal and/or recreational uses, it remains an\\nillegal drug under federal law. The Company does not discriminate against employees solely on the basis of their lawful off-'),\n",
       " Document(metadata={'source': 'handbook.pdf', 'page': 25}, page_content='duty use of marijuana. You may not consume or be under the influence of marijuana while on duty or at work. If you have a\\nvalid prescription for medical marijuana, refer to the Company Disability Accommodation policy for additional information.\\nNothing in this policy is meant to prohibit your appropriate use of over-the-counter medication or other medication that can\\nlegally be prescribed under both federal and state law, if it does not impair your job performance or safety or the safety of'),\n",
       " Document(metadata={'source': 'handbook.pdf', 'page': 25}, page_content='others. If you take over-the-counter medication or other medication that can legally be prescribed under both federal and\\nstate law to treat a disability, inform your Manager if you believe the medication may impair your job performance, safety, or\\nthe safety of others or if you believe you need a reasonable accommodation before reporting to work while under the\\ninfluence of that medication. \\n[[# Employer-Sponsored Events]]'),\n",
       " Document(metadata={'source': 'handbook.pdf', 'page': 25}, page_content='influence of that medication. \\n[[# Employer-Sponsored Events]]\\n[[From time to time, the Company may sponsor social or business-related events where alcohol may be served. This policy\\ndoes not prohibit the use or consumption of alcohol at these events. However, if you choose to consume alcohol at such\\nevents, you must do so responsibly and maintain your obligation to conduct yourself properly and professionally at all\\ntimes.]]\\n[[# Treatment and/or Rehabilitation]]'),\n",
       " Document(metadata={'source': 'handbook.pdf', 'page': 25}, page_content='times.]]\\n[[# Treatment and/or Rehabilitation]]\\n[[The Company may assist you in seeking treatment or rehabilitation for drug or alcohol dependency. In such cases, the \\n26'),\n",
       " Document(metadata={'source': 'handbook.pdf', 'page': 26}, page_content='Company may consider your continued employment as long as concerns regarding safety, health, production,\\ncommunication, or other work-related matters are adequately addressed. The Company may also require you to obtain a\\nmedical clearance and agree to random testing and a \"one-strike\" rule as a condition of continued employment.]]\\nViolations\\nViolation of this policy may result in disciplinary action, up to and including termination of employment.\\n8.2 \\nGeneral Safety'),\n",
       " Document(metadata={'source': 'handbook.pdf', 'page': 26}, page_content='8.2 \\nGeneral Safety\\nIt is the responsibility of all Zania, Inc. employees to maintain a healthy and safe work environment, report any health or\\nsafety hazards, and follow the Company health and safety rules. Failure to do so may result in disciplinary action, up to and\\nincluding termination of employment. The Company also requires that all occupational illnesses or injuries be reported to'),\n",
       " Document(metadata={'source': 'handbook.pdf', 'page': 26}, page_content='your Manager as soon as reasonably possible and that an occupational illness or injury form be completed on each reported\\nincident.\\n8.3 \\nWorkplace Violence\\nAs the safety and security of our employees, vendors, contractors, and the general public is in the best interests of Zania,\\nInc., we are committed to working with our employees to provide a work environment free from violence, intimidation, and\\nother disruptive behavior.\\nZero Tolerance Policy'),\n",
       " Document(metadata={'source': 'handbook.pdf', 'page': 26}, page_content='other disruptive behavior.\\nZero Tolerance Policy\\nThe Company has a zero tolerance policy regarding workplace violence and will not tolerate acts or threats of violence,\\nharassment, intimidation, and other disruptive behavior, either physical or verbal, that occurs in the workplace or other\\nareas. This applies to management, co-workers, employees, and non-employees such as contractors, customers, and\\nvisitors.'),\n",
       " Document(metadata={'source': 'handbook.pdf', 'page': 26}, page_content='visitors. \\nWorkplace violence can include oral or written statements, gestures, or expressions that communicate a direct or indirect\\nthreat of physical harm, damage to property, or any intentional behavior that may cause a person to feel threatened.\\nProhibited Conduct\\nProhibited conduct includes, but is not limited to:\\nPhysically injuring another person.\\nThreatening to injure a person or damage property by any means, including verbal, written, direct, indirect, or\\nelectronic means.'),\n",
       " Document(metadata={'source': 'handbook.pdf', 'page': 26}, page_content='electronic means.\\nTaking any action to place a person in reasonable fear of imminent harm or offensive contact.\\nPossessing, brandishing, or using a firearm on Company property or while performing Company business except as\\npermitted by state law.\\nViolating a restraining order, order of protection, injunction against harassment, or other court order.\\nReporting Incidents of Violence'),\n",
       " Document(metadata={'source': 'handbook.pdf', 'page': 26}, page_content='Reporting Incidents of Violence\\nReport to your Manager [[or appropriate department]], in accordance with this policy, any behavior that compromises our\\nability to maintain a safe work environment. All reports will be investigated immediately and kept confidential, except where\\nthere is a legitimate need to know. You are expected to cooperate in any investigation of workplace violence.\\nViolations'),\n",
       " Document(metadata={'source': 'handbook.pdf', 'page': 26}, page_content='Violations\\nViolating this policy may subject you to criminal charges as well as discipline up to and including immediate termination of\\nemployment.\\nRetaliation\\n27'),\n",
       " Document(metadata={'source': 'handbook.pdf', 'page': 27}, page_content='Victims and witnesses of workplace violence will not be retaliated against in any manner. In addition, you will not be subject\\nto discipline for, based on a reasonable belief, reporting a threat or for cooperating in an investigation. \\nIf you initiate, participate, are involved in retaliation, or obstruct an investigation into conduct prohibited by this policy, you will\\nbe subject to discipline up to and including termination.'),\n",
       " Document(metadata={'source': 'handbook.pdf', 'page': 27}, page_content='be subject to discipline up to and including termination. \\nIf you believe you have been wrongfully retaliated against, immediately report the matter to [[appropriate department]].\\n9.0 \\nTrade Secrets and Inventions\\n9.1 \\nConfidentiality and Nondisclosure of Trade Secrets\\nAs a condition of employment, Zania, Inc. employees are required to protect the confidentiality of Company trade secrets,'),\n",
       " Document(metadata={'source': 'handbook.pdf', 'page': 27}, page_content='proprietary information, and confidential commercially-sensitive information (i.e. financial or sales records/reports, marketing\\nor business strategies/plans, product development, customer lists, patents, trademarks, etc.) related to the Company.\\nAccess to this information should be limited to a \"need to know\" basis and should not be used for personal benefit,\\ndisclosed, or released without prior authorization from management.'),\n",
       " Document(metadata={'source': 'handbook.pdf', 'page': 27}, page_content='disclosed, or released without prior authorization from management. \\nIf you have information that leads you to suspect that employees are sharing such information in violation of this policy\\nand/or competitors are obtaining such information, you are required to inform your Manager or [[Human Resources or\\nappropriate department]].\\nViolation of this policy may result in disciplinary action up to and including termination, and may subject the violator to civil\\nliability.\\n9.2 \\nInventions'),\n",
       " Document(metadata={'source': 'handbook.pdf', 'page': 27}, page_content='liability.\\n9.2 \\nInventions\\nAny invention created, in whole or in part, during your work hours, or from the use of equipment or facilities belonging to\\nZania, Inc., is a \"work for hire\" and is the property of the Company.\\nIf you intend to develop and maintain property rights to any invention that relates in any way to products or services of the\\nCompany, you are required to obtain a written waiver of this policy, signed by both you and [[insert title]].\\n28'),\n",
       " Document(metadata={'source': 'handbook.pdf', 'page': 28}, page_content='California Policies\\nHiring and Orientation Policies\\nAccommodations for Victims of Crime or Abuse\\nZania, Inc. will provide reasonable accommodations to employees who are the victims of domestic violence, sexual assault,\\nor stalking who request an accommodation for their safety while at work, provided the accommodation does not create an\\nundue hardship on the Company.\\nReasonable accommodations may include the implementation of safety measures such as:'),\n",
       " Document(metadata={'source': 'handbook.pdf', 'page': 28}, page_content='Reasonable accommodations may include the implementation of safety measures such as:\\nA transfer, reassignment, or modified schedule.\\nA change in telephone number or workstation, or installed lock.\\nAssistance in documenting domestic violence, sexual assault, stalking, or other crime that occurs in the workplace.\\nAn implemented safety procedure or other adjustment to a job structure, workplace facility, or work requirement in'),\n",
       " Document(metadata={'source': 'handbook.pdf', 'page': 28}, page_content='response to domestic violence, sexual assault, stalking, or other crime.\\nReferral to a victim assistance organization.\\nUpon receiving a request, the Company will engage in a timely, good faith, and interactive process with you to determine\\neffective reasonable accommodations. \\nIf you no longer need an accommodation, you must notify the Company that the accommodation is no longer needed. If\\ncircumstances change and you need a new accommodation, you must request one.\\nCertification'),\n",
       " Document(metadata={'source': 'handbook.pdf', 'page': 28}, page_content='circumstances change and you need a new accommodation, you must request one.\\nCertification\\nWhen requesting a reasonable accommodation, you will be asked to submit a signed, written statement certifying that the\\naccommodation is for an authorized purpose. You may also be asked to provide documentation that demonstrates your\\nstatus as a victim of domestic violence, sexual assault, stalking, or ongoing circumstances related to the crime or abuse,\\nsuch as:'),\n",
       " Document(metadata={'source': 'handbook.pdf', 'page': 28}, page_content='such as:\\nA police report showing that you were a victim.\\nA court order protecting you from the perpetrator or other evidence from the court or prosecuting attorney that you\\nappeared in court.\\nDocumentation from a medical professional, domestic violence counselor, sexual assault counselor, victim advocate,\\nhealth care provider, or counselor showing that your absence was due to treatment for injuries from the crime or\\nabuse.'),\n",
       " Document(metadata={'source': 'handbook.pdf', 'page': 28}, page_content='abuse.\\nAny other form of documentation that reasonably verifies that the crime or abuse occurred.\\nUnpaid Leave\\nIf you are a victim, the Company will also provide you with unpaid leave to obtain or attempt to obtain any relief, including,\\nbut not limited to, a temporary restraining order, restraining order, or other injunctive relief, to help ensure the health, safety,\\nor welfare of you or your child.\\nFor purposes of unpaid leave, \\nvictim\\n includes:'),\n",
       " Document(metadata={'source': 'handbook.pdf', 'page': 28}, page_content='or welfare of you or your child.\\nFor purposes of unpaid leave, \\nvictim\\n includes:\\nA victim of stalking, domestic violence, or sexual assault.\\nA victim of a crime that has caused physical injury, or mental injury and a threat of physical injury.\\nA person whose immediate family member is deceased as the direct result of a crime.\\nCrime\\n means a crime or public offense anywhere that would constitute a misdemeanor or a felony if the crime had been'),\n",
       " Document(metadata={'source': 'handbook.pdf', 'page': 28}, page_content='committed in California by a competent adult, regardless of whether any person is arrested or prosecuted for, or convicted\\n29'),\n",
       " Document(metadata={'source': 'handbook.pdf', 'page': 29}, page_content=\"of, committing the crime.\\nImmediate family member\\n means:\\nYour spouse or domestic partner.\\nYour child, which includes, regardless of age, a biological, adopted, or foster child; stepchild or legal ward; the child of\\nyour domestic partner; a child to whom you stand in loco parentis; or a person to whom you stood in loco parentis\\nwhen the person was a minor.\\nYour (or your spouse's or domestic partner's) biological, adoptive, or foster parent, stepparent, or legal guardian, or a\"),\n",
       " Document(metadata={'source': 'handbook.pdf', 'page': 29}, page_content='person who stood in loco parentis of you or your spouse or domestic partner when you or they were a minor child.\\nYour biological, foster, or adoptive sibling, step-sibling, or half-sibling.\\nAny other individual whose close association with you is the equivalent of a family relationship described above.\\nYou may use available vacation, personal leave, accrued paid sick leave, or compensatory time off for your leave unless you\\nare covered by a collective bargaining agreement that states otherwise.'),\n",
       " Document(metadata={'source': 'handbook.pdf', 'page': 29}, page_content='are covered by a collective bargaining agreement that states otherwise.\\nNotice\\nYou must provide reasonable advance notice of your intent to take leave for the above reasons unless advance notice is not\\nfeasible. If an unscheduled absence occurs, you must provide the following documentation within a reasonable amount of\\ntime after your absence:\\nA police report indicating that you were a victim;'),\n",
       " Document(metadata={'source': 'handbook.pdf', 'page': 29}, page_content='time after your absence:\\nA police report indicating that you were a victim;\\nA court order protecting or separating you from the perpetrator of the crime or abuse, or other evidence from the court\\nor prosecuting attorney stating that you have appeared in court; or\\nDocumentation from a licensed medical professional, domestic violence counselor, sexual assault counselor, victim\\nadvocate, licensed health care provider, or counselor stating that you were undergoing treatment or receiving services'),\n",
       " Document(metadata={'source': 'handbook.pdf', 'page': 29}, page_content='for physical or mental injuries or abuse resulting from the crime or abuse.\\nConfidentiality\\nThe Company will maintain the confidentiality of anyone requesting time off or requesting an accommodation under this\\npolicy, except as required by federal or state law or as necessary to protect your safety in the workplace.\\nRetaliation\\nThe Company will not retaliate against employees for their status as a victim of crime or abuse or for requesting or taking'),\n",
       " Document(metadata={'source': 'handbook.pdf', 'page': 29}, page_content='leave or a reasonable accommodation in accordance with this policy.\\nDisability Accommodation\\nZania, Inc. complies with the Americans with Disabilities Act (ADA), the Pregnancy Discrimination Act, and all applicable\\nstate and local fair employment practices laws, and is committed to providing equal employment opportunities to qualified\\nindividuals with disabilities, including disabilities related to pregnancy, childbirth, and related conditions. Consistent with this'),\n",
       " Document(metadata={'source': 'handbook.pdf', 'page': 29}, page_content='commitment, the Company will provide reasonable accommodation to otherwise qualified individuals where appropriate to\\nallow the individual to perform the essential functions of the job, unless doing so would create an undue hardship on the\\nbusiness.\\nIf you require an accommodation because of your disability, it is your responsibility to notify your Manager. You may be\\nasked to include relevant information such as:\\nA description of the proposed accommodation.'),\n",
       " Document(metadata={'source': 'handbook.pdf', 'page': 29}, page_content='asked to include relevant information such as:\\nA description of the proposed accommodation.\\nThe reason you need an accommodation.\\nHow the accommodation will help you perform the essential functions of your job.\\nAfter receiving your request, the Company will engage in an interactive dialogue with you to determine the precise limitations\\n30'),\n",
       " Document(metadata={'source': 'handbook.pdf', 'page': 30}, page_content='of your disability and explore potential reasonable accommodations that could overcome those limitations. Where\\nappropriate, we may need your permission to obtain additional information from your medical provider. All medical\\ninformation received by the Company in connection with a request for accommodation will be treated as confidential.\\nThe Company encourages you to suggest specific reasonable accommodations that you believe would allow you to perform'),\n",
       " Document(metadata={'source': 'handbook.pdf', 'page': 30}, page_content='your job. However, the Company is not required to make the specific accommodation requested by you and may provide an\\nalternative accommodation, to the extent any reasonable accommodation can be made without imposing an undue hardship\\non the Company. \\nIf leave is provided as a reasonable accommodation, such leave may run concurrently with leave under the federal Family\\nand Medical Leave Act and/or any other leave where permitted by state and federal law.'),\n",
       " Document(metadata={'source': 'handbook.pdf', 'page': 30}, page_content='and Medical Leave Act and/or any other leave where permitted by state and federal law.\\nThe Company will not discriminate or retaliate against employees for requesting an accommodation.\\nEEO Statement and Nonharassment Policy\\nEqual Opportunity Statement\\nZania, Inc. is committed to the principles of equal employment. We are committed to complying with all federal, state, and\\nlocal laws providing equal employment opportunities, and all other employment laws and regulations. It is our intent to'),\n",
       " Document(metadata={'source': 'handbook.pdf', 'page': 30}, page_content=\"maintain a work environment that is free of harassment, discrimination, or retaliation based on an individual's race (including,\\nbut not limited to, hair texture and protective hairstyles such as braids, locks, and twists), color, religion, religious creed\\n(including religious dress and grooming practices), national origin, ancestry, citizenship, physical or mental disability, medical\"),\n",
       " Document(metadata={'source': 'handbook.pdf', 'page': 30}, page_content='condition (including cancer and genetic characteristics), genetic information, marital status, reproductive health decision-\\nmaking, sex (including pregnancy, childbirth, breastfeeding, or related medical conditions), gender (including gender identity\\nand gender expression), age (40 years and over), sexual orientation, veteran and/or military status, protected medical leaves\\n(requesting or approved for leave under the Family and Medical Leave Act or the California Family Rights Act), domestic'),\n",
       " Document(metadata={'source': 'handbook.pdf', 'page': 30}, page_content='violence victim status, political affiliation, or any other status protected by federal, state, or local laws. The Company is\\ndedicated to the fulfillment of this policy in regard to all aspects of employment, including, but not limited to, recruiting, hiring,\\nplacement, transfer, training, promotion, rates of pay, and other compensation, termination, and all other terms, conditions,\\nand privileges of employment.'),\n",
       " Document(metadata={'source': 'handbook.pdf', 'page': 30}, page_content='and privileges of employment.\\nThe Company will conduct a confidential, prompt, and thorough investigation of all allegations of discrimination, harassment,\\nretaliation, or any violation of the Equal Employment Opportunity Policy. The Company will take appropriate corrective and\\nremedial action, if and where warranted. The Company prohibits retaliation against any employees who provide information'),\n",
       " Document(metadata={'source': 'handbook.pdf', 'page': 30}, page_content='about, complain about, or assist in the investigation of any complaint of discrimination or violation of the Equal Employment\\nOpportunity Policy.\\nWe are all responsible for upholding this policy. You may discuss questions regarding equal employment opportunity with\\nyour Manager or any other designated member of management.\\nPolicy Against Workplace Harassment\\nZania, Inc. has a strict policy against all types of workplace harassment, including sexual harassment and other forms of'),\n",
       " Document(metadata={'source': 'handbook.pdf', 'page': 30}, page_content=\"workplace harassment based upon an individual's race (including, but not limited to, hair texture and protective hairstyles\\nsuch as braids, locks, and twists), color, religion, religious creed (including religious dress and grooming practices), national\\norigin, ancestry, citizenship, physical or mental disability, medical condition (including cancer and genetic characteristics),\"),\n",
       " Document(metadata={'source': 'handbook.pdf', 'page': 30}, page_content='genetic information, marital status, reproductive health decision-making, sex (including pregnancy, childbirth, breastfeeding,\\nor related medical conditions), gender (including gender identity and gender expression), age (40 years and over), sexual\\norientation, veteran and/or military status, protected medical leaves (requesting or approved for leave under the Family and\\nMedical Leave Act or the California Family Rights Act), domestic violence victim status, political affiliation, or any other'),\n",
       " Document(metadata={'source': 'handbook.pdf', 'page': 30}, page_content='status protected by federal, state, or local laws.\\nThis policy protects all applicants and employees (including managers and supervisors) from unlawful harassment and\\n31'),\n",
       " Document(metadata={'source': 'handbook.pdf', 'page': 31}, page_content=\"discrimination. This includes harassment by employees, managers, supervisors, contractors, interns, volunteers, vendors,\\nsuppliers, and customers. In addition, this policy extends to conduct connected with an individual's work, even when the\\nconduct takes place away from the workplace, such as a business trip or business-related social function.\\nHarassment\\nHarassment\\n means disrespectful or unprofessional conduct, including disrespectful or unprofessional conduct based on an\"),\n",
       " Document(metadata={'source': 'handbook.pdf', 'page': 31}, page_content=\"individual's race (including, but not limited to, hair texture and protective hairstyles such as braids, locks, and twists), color,\\nreligion, religious creed (including religious dress and grooming practices), national origin, ancestry, citizenship, physical or\\nmental disability, medical condition (including cancer and genetic characteristics), genetic information, marital status,\"),\n",
       " Document(metadata={'source': 'handbook.pdf', 'page': 31}, page_content='reproductive health decision-making, sex (including pregnancy, childbirth, breastfeeding, or related medical conditions),\\ngender (including gender identity and gender expression), age (40 years and over), sexual orientation, veteran and/or\\nmilitary status, protected medical leaves (requesting or approved for leave under the Family and Medical Leave Act or the\\nCalifornia Family Rights Act), domestic violence victim status, political affiliation, or any other status protected by federal,'),\n",
       " Document(metadata={'source': 'handbook.pdf', 'page': 31}, page_content='state, or local laws.\\nWhile it is not possible to list all the circumstances that may constitute other forms of workplace harassment, some examples\\nof conduct that may constitute workplace harassment include:\\nThe use of disparaging or abusive words or phrases, slurs, negative stereotyping, or threatening, intimidating, or\\nhostile acts that relate to the above-protected categories;\\nWritten or graphic material that insults, stereotypes, or shows aversion or hostility toward an individual or group'),\n",
       " Document(metadata={'source': 'handbook.pdf', 'page': 31}, page_content='because of one of the above-protected categories and that is placed on walls, bulletin boards, or elsewhere on our\\npremises, in emails, or voicemails, or otherwise circulated in the workplace; and\\nA display of symbols, slogans, or items that are associated with hate or intolerance toward any select group.\\nSexual Harassment\\nSexual harassment\\n means harassment based on sex or conduct of a sexual nature and includes harassment based on sex'),\n",
       " Document(metadata={'source': 'handbook.pdf', 'page': 31}, page_content='means harassment based on sex or conduct of a sexual nature and includes harassment based on sex\\n(including pregnancy, childbirth, breastfeeding, or related medical conditions), gender, gender identity, or gender expression.\\nIt may include all of the actions described above as harassment, as well as other unwelcome sex-based conduct, such as\\nunwelcome or unsolicited sexual advances, requests for sexual favors, conversations regarding sexual activities, or other'),\n",
       " Document(metadata={'source': 'handbook.pdf', 'page': 31}, page_content='verbal or physical conduct of a sexual nature. Sexually harassing conduct need not be motivated by sexual desire and may\\ninclude situations that began as reciprocal relationships, but that later cease to be reciprocal.\\nSexual harassment is generally categorized into the following two types:\\nQuid pro quo sexual harassment (\"this for that\"), which includes:\\nSubmission to sexual conduct when made explicitly or implicitly a term or condition of an individual\\'s employment.'),\n",
       " Document(metadata={'source': 'handbook.pdf', 'page': 31}, page_content=\"Submission to or rejection of the conduct by an employee when used as the basis for employment decisions affecting\\nthe employee.\\nHostile work environment sexual harassment is conduct of a sexual nature or on the basis of sex by any person in the\\nworkplace that unreasonably interferes with an employee's work performance and/or creates an intimidating, hostile, or\\notherwise offensive working environment. Examples include:\"),\n",
       " Document(metadata={'source': 'handbook.pdf', 'page': 31}, page_content='otherwise offensive working environment. Examples include:\\nUnwelcome sexual advances, flirtation, teasing, sexually suggestive or obscene letters, invitations, notes, emails,\\nvoicemails, or gifts.\\nSex, gender, or sexual orientation-related comments, slurs, jokes, remarks, or epithets.\\nLeering, obscene or vulgar gestures, or sexual gestures.\\nDisplaying or distributing sexually suggestive or derogatory objects, pictures, cartoons, or posters or any such items.'),\n",
       " Document(metadata={'source': 'handbook.pdf', 'page': 31}, page_content='Impeding or blocking movement, unwelcome touching, or assaulting others.\\nAny sexual advances that are unwelcome as well as reprisals or threats after a negative response to sexual advances.\\nConduct or comments consistently targeted at one gender, even if the content is not sexual.\\nRetaliation\\n32'),\n",
       " Document(metadata={'source': 'handbook.pdf', 'page': 32}, page_content=\"Retaliation\\n means any adverse employment action taken against an employee because the employee engaged in activity\\nprotected under this policy. Protected activities may include, but are not limited to, reporting or assisting in reporting\\nsuspected violations of this policy and/or cooperating in investigations or proceedings arising out of a violation of this policy.\\nAdverse employment action\\n is conduct or an action that materially affects the terms and conditions of the employee's\"),\n",
       " Document(metadata={'source': 'handbook.pdf', 'page': 32}, page_content=\"is conduct or an action that materially affects the terms and conditions of the employee's\\nemployment status or is reasonably likely to deter the employee from engaging in protected activity. Even actions that do not\\nresult in a direct loss of compensation may be regarded as an adverse employment action when considered in the totality of\\nthe circumstances.\\nExamples of retaliation under this policy include, but are not limited to: demotion, suspension, reduction in pay, denial of a\"),\n",
       " Document(metadata={'source': 'handbook.pdf', 'page': 32}, page_content=\"merit salary increase, failure to hire or consider for hire, refusing to promote or consider for promotion because of reporting a\\nviolation of this policy, harassing another employee for filing a complaint, denying employment opportunities because of\\nmaking a complaint or cooperating in an investigation, changing someone's work assignments for identifying harassment or\\nother forms of discrimination in the workplace, treating people differently such as denying an accommodation, not talking to\"),\n",
       " Document(metadata={'source': 'handbook.pdf', 'page': 32}, page_content='an employee when otherwise required by job duties, or otherwise excluding the employee from job-related activities because\\nof engagement in activities protected under this policy.\\nReporting Discrimination, Harassment, and/or Retaliation\\nIf you feel that you have witnessed or have been subjected to any form of discrimination, harassment, or retaliation,\\nimmediately notify [[name, title, phone number, email]] or any member of management.'),\n",
       " Document(metadata={'source': 'handbook.pdf', 'page': 32}, page_content='immediately notify [[name, title, phone number, email]] or any member of management.\\nThe Company prohibits retaliation against employees who, based on a reasonable belief, provide information about,\\ncomplain, or assist in the investigation of any complaint of harassment or discrimination.\\nWe will promptly and thoroughly investigate any claim and take appropriate corrective and/or remedial action where we find'),\n",
       " Document(metadata={'source': 'handbook.pdf', 'page': 32}, page_content='a claim has merit. If the Company begins an investigation, we will endeavor to conduct the investigation in a timely manner\\nand will keep the investigation confidential to the extent possible. In the same way, anyone involved in an investigation of\\nharassment has an obligation to keep all information about the investigation confidential. That is why the Company will only\\nshare information about a complaint of harassment with those who need to know about it. Failure to keep information about'),\n",
       " Document(metadata={'source': 'handbook.pdf', 'page': 32}, page_content='an investigation confidential may result in disciplinary action. Investigations will be documented and tracked for timely\\nresolution.\\nWhen the investigation has been completed, the Company will normally communicate the results of the investigation to the\\ncomplaining individual, to the alleged harasser, and, if appropriate, to others who are directly involved. If our policy against'),\n",
       " Document(metadata={'source': 'handbook.pdf', 'page': 32}, page_content='harassment is found to have been violated, appropriate corrective action, up to and including termination, will be taken\\nagainst the harasser so that further harassment will be prevented. Both the rights of the alleged harasser and the\\ncomplainant will be considered in any investigation and subsequent action.\\nDiscipline for violation of this policy may include, but is not limited to, reprimand, suspension, demotion, transfer, and'),\n",
       " Document(metadata={'source': 'handbook.pdf', 'page': 32}, page_content='discharge. If the Company determines that harassment or discrimination occurred, corrective action will be taken to\\neffectively end the harassment. As necessary, the Company may monitor any incident of harassment or discrimination to\\nassure the inappropriate behavior has stopped. In all cases, the Company will follow up as necessary to ensure that no\\nindividual is retaliated against for making a complaint or cooperating with an investigation.'),\n",
       " Document(metadata={'source': 'handbook.pdf', 'page': 32}, page_content='individual is retaliated against for making a complaint or cooperating with an investigation.\\nIn addition to our internal complaint procedure, employees may also contact either the Equal Employment Opportunity\\nCommission (EEOC) or the California Civil Rights Department (CRD) to report unlawful harassment. You must file a\\ncomplaint with the CRD within three years of the alleged unlawful action. The EEOC and the CRD serve as neutral'),\n",
       " Document(metadata={'source': 'handbook.pdf', 'page': 32}, page_content='factfinders and will attempt to assist the parties to voluntarily resolve their disputes. For more information, contact the Office\\nof Human Resources or the nearest EEOC or CRD office.\\nFiling of Complaints Outside Company\\nYou may file formal complaints of discrimination, harassment, or retaliation with the agencies listed below. Contact these\\n33'),\n",
       " Document(metadata={'source': 'handbook.pdf', 'page': 33}, page_content='agencies directly for more information about filing processes.\\nCalifornia Civil Rights Department\\n2218 Kausen Drive, Suite 100\\nElk Grove, CA 95758\\nVoice: 800-884-1684\\nTTY: 800-700-2320\\nCalifornia Relay Service: 711\\nEmail: contact.center@dfeh.ca.gov\\nMain website: \\nhttps://www.calcivilrights.ca.gov\\nOnline sexual harassment training courses: \\nhttps://www.calcivilrights.ca.gov/shpt/\\nU.S. Equal Employment Opportunity Commission\\n450 Golden Gate Avenue 5 West\\nP.O. Box 36025\\nSan Francisco, CA 94102-3661'),\n",
       " Document(metadata={'source': 'handbook.pdf', 'page': 33}, page_content='450 Golden Gate Avenue 5 West\\nP.O. Box 36025\\nSan Francisco, CA 94102-3661\\nPhone: 800-669-4000\\nFax: 415-522-3415\\nTTY: 800-669-6820\\nASL Video Phone: 844-234-5122\\nhttps://www.eeoc.gov/field-office/sanfrancisco/location\\nReligious Accommodation\\nZania, Inc. is dedicated to treating its employees equally and with respect and recognizes the diversity of their religious\\nbeliefs. All employees, unpaid interns, and volunteers may request an accommodation when their religious beliefs cause a'),\n",
       " Document(metadata={'source': 'handbook.pdf', 'page': 33}, page_content=\"deviation from the Company dress or grooming code, or the individual's schedule, basic job duties, or other aspects of\\nemployment. The Company will consider the request, but reserves the right to offer its own accommodation to the extent\\npermitted by law. Some, but not all, of the factors that the Company will consider are cost, the effect that an accommodation\\nwill have on current established policies, and the burden on operations — including other employees — when determining a\"),\n",
       " Document(metadata={'source': 'handbook.pdf', 'page': 33}, page_content=\"reasonable accommodation. At no time will the Company question the validity of a person's belief. \\nIf you require a religious accommodation, speak with your Manager [[or appropriate department]].\\nWage and Hour Policies\\nAccommodations for Nursing Mothers\\nZania, Inc. is required by law to provide requesting employees who are nursing mothers with certain accommodations to\\nexpress milk. Accordingly, the Company will provide nursing mothers with:\"),\n",
       " Document(metadata={'source': 'handbook.pdf', 'page': 33}, page_content='express milk. Accordingly, the Company will provide nursing mothers with:\\nReasonable break time to express milk for their infant child each time the mother has the need to express milk; and\\nA private room or other location, other than a restroom, in close proximity to their work area that is shielded from view\\nand free from intrusion, to express breast milk.\\nRequesting Accommodation'),\n",
       " Document(metadata={'source': 'handbook.pdf', 'page': 33}, page_content='and free from intrusion, to express breast milk.\\nRequesting Accommodation\\nIf you have the need for accommodation, contact your Manager. If the Company cannot provide break time or a location that\\ncomplies with the above, the Company will provide you with a written response.\\nBreak Times\\nRegarding break times, employees may use regular paid rest breaks or may take other reasonable break time when needed.'),\n",
       " Document(metadata={'source': 'handbook.pdf', 'page': 33}, page_content='If possible, the break time should run concurrently with scheduled meal and rest breaks already provided to you. If the break\\n34'),\n",
       " Document(metadata={'source': 'handbook.pdf', 'page': 34}, page_content='time cannot run concurrently with meal and rest breaks already provided or additional time is needed, break times will be\\nunpaid except where federal or state law dictates otherwise.\\nLactation Room or Location\\nThe provided lactation room or location will:\\nBe safe, clean, and free of hazardous materials.\\nContain a surface to place a breast pump and personal items.\\nContain a place to sit.'),\n",
       " Document(metadata={'source': 'handbook.pdf', 'page': 34}, page_content='Contain a surface to place a breast pump and personal items.\\nContain a place to sit.\\nHave access to electricity or alternative devices, including, but not limited to, extension cords or charging stations,\\nneeded to operate an electric or battery-powered breast pump.\\nMultipurpose rooms may be used as lactation space if they satisfy the above requirements; however, use of the room for\\nlactation purposes must take priority over other uses.\\nMilk Storage'),\n",
       " Document(metadata={'source': 'handbook.pdf', 'page': 34}, page_content='lactation purposes must take priority over other uses.\\nMilk Storage\\n[[INFORM EMPLOYEES WHERE THEY MAY STORE EXPRESSED MILK: Expressed milk can be stored [in company\\nrefrigerators, refrigerators provided in the lactation room or other location]. Sufficiently mark or label your milk to avoid\\nconfusion for other employees who may share the refrigerator. If a refrigerator cannot be provided, the Company will provide'),\n",
       " Document(metadata={'source': 'handbook.pdf', 'page': 34}, page_content='another cooling device suitable for storing milk. You may also elect to bring a personal cooler for storage.]]\\nRetaliation\\nThe Company will not retaliate against employees who request or obtain an accommodation in accordance with this policy.\\nRight to File Complaint\\nIf you feel the Company is not providing you with adequate break time and/or a place to express milk as provided for in'),\n",
       " Document(metadata={'source': 'handbook.pdf', 'page': 34}, page_content=\"Labor Code § 1030, you may file a report/claim with the Labor Commissioner's Bureau of Field Enforcement (BOFE) at the\\nBOFE office nearest your place of employment. The complaint must be filed within three years of the alleged unlawful action.\\nIn addition, if you believe you have been a victim of retaliation for either asserting a right to lactation accommodation or for\\ncomplaining to the Labor Commissioner about the failure of the Company to provide this accommodation, you may file a\"),\n",
       " Document(metadata={'source': 'handbook.pdf', 'page': 34}, page_content=\"retaliation claim with the Labor Commissioner's Office pursuant to Labor Code § 98.7. This claim must be filed within six\\nmonths of the alleged retaliation.\\nUnder certain circumstances, the Company may be relieved of the duty to provide all or some of the above benefits if doing\\nso would impose an undue hardship on the Company.\\nMeal and Rest Periods\\nZania, Inc. strives to provide a safe and healthy work environment and comply with all federal and state regulations\"),\n",
       " Document(metadata={'source': 'handbook.pdf', 'page': 34}, page_content='regarding meal and rest periods. Check with your Manager regarding procedures and schedules for meal and rest periods. \\nThe Company requests that employees observe and accurately record meal periods in time and attendance records. If you\\nknow in advance that you may not be able to take an uninterrupted scheduled meal or rest period, let your Manager know; in\\naddition, notify your Manager as soon as possible if you were unable to take or were prohibited from taking an uninterrupted'),\n",
       " Document(metadata={'source': 'handbook.pdf', 'page': 34}, page_content='scheduled meal or rest period.\\nMeal and rest periods are intended to provide employees with an opportunity to be away from work, and employees are not\\npermitted to perform any work during meal and rest periods.\\nMeal Periods\\nIf you are nonexempt and work more than five hours in a workday, you will be provided an unpaid, uninterrupted [[30-\\n35'),\n",
       " Document(metadata={'source': 'handbook.pdf', 'page': 35}, page_content='minute/one-hour]] meal period no later than the end of your fifth hour of work and will be required to \"clock out\" from the\\ntimekeeping system. If you work fewer than six hours in a work day, you may mutually agree with your Manager to waive the\\nmeal period. \\nIf you are nonexempt and work more than 10 hours in a workday, you will be provided a second unpaid, uninterrupted [[30-'),\n",
       " Document(metadata={'source': 'handbook.pdf', 'page': 35}, page_content='minute/one-hour]] meal period no later than the end of your tenth hour of work. Depending on your occupation, if you work\\nno more than 12 hours in a workday and have taken the first meal period, you may mutually agree with your Manager to\\nwaive the second meal period. \\nSee your Manager for procedures related to requesting to waive a meal period in the above circumstances.\\nRest Periods'),\n",
       " Document(metadata={'source': 'handbook.pdf', 'page': 35}, page_content='Rest Periods\\nIf you are nonexempt, you will also be provided paid, 10-minute rest periods based on total hours worked daily and you are\\nnot required to \"clock out\" from the timekeeping system. You will receive 10 minutes of uninterrupted rest time for every four\\nhours of work, or major portion of each four hours worked. Accordingly, if you work:\\nLess than three and a half hours, you are not entitled to a rest period.\\nThree and a half to six hours, you are entitled to a 10-minute rest period.'),\n",
       " Document(metadata={'source': 'handbook.pdf', 'page': 35}, page_content='Three and a half to six hours, you are entitled to a 10-minute rest period.\\nSix to 10 hours, you are entitled to two 10-minute rest periods.\\nTen to 14 hours, you are entitled to three 10-minute rest periods.\\nRest periods are to be taken in the middle of the four-hour work period when possible. Rest periods should not be combined\\nor added to meal periods or used to start work later or end work early.\\nOne Day Rest in Seven'),\n",
       " Document(metadata={'source': 'handbook.pdf', 'page': 35}, page_content='or added to meal periods or used to start work later or end work early.\\nOne Day Rest in Seven\\nIn accordance with California law, nonexempt employees are generally permitted, on average, one day of rest for every\\nseven days of work depending upon scheduling and business needs as well as availability and interest in additional hours of\\nwork.\\nOvertime\\nIf you are nonexempt, you may qualify for overtime pay. All overtime must be approved in advance, in writing, by your\\nManager.'),\n",
       " Document(metadata={'source': 'handbook.pdf', 'page': 35}, page_content='Manager. \\nAt certain times Zania, Inc. may require you to work overtime. We will attempt to give as much notice as possible in this\\ninstance. However, advance notice may not always be possible. Failure to work overtime when requested or working\\nunauthorized overtime may result in disciplinary action, up to and including termination.\\nIf you are nonexempt and work more than eight hours in any workday or more than six days in any workweek, you will be\\npaid overtime at a rate of:'),\n",
       " Document(metadata={'source': 'handbook.pdf', 'page': 35}, page_content='paid overtime at a rate of:\\nOne and one-half times your regular rate of pay for all hours worked in excess of eight hours up to and including 12\\nhours in any workday, and for the first eight hours worked on the seventh consecutive day of work in a workweek.\\nTwo times your regular rate for all hours worked in excess of 12 hours in a workday or in excess of eight hours on the\\nseventh consecutive day of work in a workweek.'),\n",
       " Document(metadata={'source': 'handbook.pdf', 'page': 35}, page_content='seventh consecutive day of work in a workweek.\\nIf you are nonexempt and work more than 40 hours in a workweek you may be entitled to overtime after any daily overtime\\nhours are subtracted. The same hours are never counted against different overtime limits. \\nHolidays, vacation days, and sick leave days do not count as time worked for computing overtime.\\nPay Period\\n36'),\n",
       " Document(metadata={'source': 'handbook.pdf', 'page': 36}, page_content='[[Zania, Inc. pays executive, administrative, and professional employees once per month on [day of month (must be on or\\nbefore the 26th day of the month)], and may be paid more frequently.]]\\n[[Nonexempt/All employees]] are paid [[weekly/every other week/twice per month]] on [[day of week or dates of month]] for\\nthe pay period that ends on the previous [[end of pay period]]. If a payday falls on a [[weekend or]] holiday, you normally will'),\n",
       " Document(metadata={'source': 'handbook.pdf', 'page': 36}, page_content='be paid on the last business day before the [[weekend or]] holiday. \\nIf you are paid by commission, refer to your commission agreement.\\nReview your paycheck for accuracy and report any concerns to your Manager immediately. If you have been overpaid or\\nunderpaid, the error will be corrected as soon as possible.\\nReporting Time Pay\\nZania, Inc. provides reporting time pay to nonexempt employees in all circumstances required by applicable law, including'),\n",
       " Document(metadata={'source': 'handbook.pdf', 'page': 36}, page_content='when you report to work for your scheduled shift but are asked to work, or are given, less than half of the hours you were\\nscheduled to work. Reporting time pay may also be available for employees who are asked to call in or verify whether they\\nwill be required to work through online resources. Reporting time pay will be paid at your regular rate of pay. Reporting time\\npay for hours not actually worked is not counted for purposes of determining overtime.'),\n",
       " Document(metadata={'source': 'handbook.pdf', 'page': 36}, page_content='pay for hours not actually worked is not counted for purposes of determining overtime. \\nReporting time pay is not provided under certain circumstances, including, but not limited to:\\n1\\n. \\nWhen Company operations cannot begin or continue due to threats to employees or property, or when civil authorities\\nrecommend that work not begin or continue.\\n2\\n. \\nWhen public utilities fail to supply electricity, water, or gas, or there is a failure in the public utilities or sewer system.\\n3\\n.'),\n",
       " Document(metadata={'source': 'handbook.pdf', 'page': 36}, page_content='3\\n. \\nWhen the interruption of work is caused by an \"act of God\" or other cause outside of the employer\\'s control, such as an\\nearthquake.\\nSpeak with your Manager for more information regarding reporting time pay.\\nTravel Time Pay\\nSome nonexempt positions within Zania, Inc. require travel. If you are nonexempt and are required to travel in the course of\\nconducting your work, you will be paid in the following way:'),\n",
       " Document(metadata={'source': 'handbook.pdf', 'page': 36}, page_content='conducting your work, you will be paid in the following way:\\nIf you report to the workplace and then are required to travel to another site to work for the day, travel time to the\\nassigned work place will be paid.\\nWhen you are required to report to a site other than your regular work site, and you go directly to that site without first\\ngoing to the regular work place, the Company will pay travel time for any time in excess of your normal commute time\\nto the regular site.'),\n",
       " Document(metadata={'source': 'handbook.pdf', 'page': 36}, page_content='to the regular site.\\nIf you are required to travel to a distant work place, you will be paid travel time in addition to time worked.\\nYour travel hours are \"hours worked\" for the purposes of calculating overtime.\\nWage Disclosure Protection\\nIn accordance with California law, Zania, Inc. will not:\\nProhibit you from:\\nDisclosing your own wages;\\nDiscussing the wages of others; or\\nInquiring about another\\'s wages.'),\n",
       " Document(metadata={'source': 'handbook.pdf', 'page': 36}, page_content=\"Disclosing your own wages;\\nDiscussing the wages of others; or\\nInquiring about another's wages.\\nRequire you to sign a waiver or other document that proposes to deny you the right to disclose the amount of your\\nwages.\\nDischarge, formally discipline, or otherwise discriminate or retaliate against you for disclosing the amount of your\\n37\"),\n",
       " Document(metadata={'source': 'handbook.pdf', 'page': 37}, page_content='wages.\\nHowever, if you have access to or knowledge of the private compensation information of other employees as a part of your\\nrole and essential job functions, you may not disclose that information to individuals who do not otherwise have access to it,\\nunless the disclosure is:\\nIn response to a formal complaint or charge;\\nPart of an investigation, proceeding, hearing, or action, including an investigation conducted by the Company; or'),\n",
       " Document(metadata={'source': 'handbook.pdf', 'page': 37}, page_content='Consistent with the legal duty of the Company to furnish information.\\nIf you believe that you have been discriminated or retaliated against in violation of this policy, immediately report your\\nconcerns to [[appropriate person or department]]. \\nNothing in this policy will be enforced to interfere with, restrain or coerce, or retaliate against employees regarding their\\nrights under the National Labor Relations Act.\\nWorkday/Workweek'),\n",
       " Document(metadata={'source': 'handbook.pdf', 'page': 37}, page_content=\"rights under the National Labor Relations Act.\\nWorkday/Workweek\\nZania, Inc.'s workweek runs from [[day]] to [[day]]. The workday begins at [[time]] and ends at [[time]]. Employees may be\\nrequired to come in early, work late, or work overtime from time to time, depending on various factors, such as workloads,\\nstaffing needs, and special projects.\\n[[# Alternative Workweek]]\\n[[If certain employees have elected to work an alternative workweek, define the employee group (i.e. department) and\"),\n",
       " Document(metadata={'source': 'handbook.pdf', 'page': 37}, page_content=\"describe the alternative schedule.]]\\nGeneral Policies\\nAccess to Personnel and Medical Records Files\\nZania, Inc. maintains separate medical records files and personnel files for all employees. Files containing medical records\\nare stored separate and apart from any business-related records in a safe, locked, inaccessible location. The medical file is\\nthe repository for sensitive and confidential information related to an individual's health, health benefits, health-related leave\"),\n",
       " Document(metadata={'source': 'handbook.pdf', 'page': 37}, page_content='and/or accommodations, and benefits selections and coverage. Medical records are kept confidential in compliance with\\napplicable laws and access is on a \"need-to-know\" basis only. \\nSupervisors and others in management may have access to your personnel file for possible employment-related decisions.\\nAll employees have the right to inspect and receive a copy of their personnel records. The Company will make such records'),\n",
       " Document(metadata={'source': 'handbook.pdf', 'page': 37}, page_content='available for inspection and/or to receive a copy within 30 calendar days of a written request. Payroll records will be made\\navailable to inspect or receive a copy within 21 calendar days of a verbal or written request.\\nAll requests by an outside party for information contained in your personnel file will be directed to the [[appropriate\\ndepartment]], which is the only department authorized to give out such information.\\nWhistleblower Protections'),\n",
       " Document(metadata={'source': 'handbook.pdf', 'page': 37}, page_content='Whistleblower Protections\\nWhen employees notify a supervisor, manager, or an appropriate government or law enforcement agency that they have\\nreason to believe their employer is violating a state or federal statute, or violating or not complying with a state or federal rule\\nor regulation, those employees are protected from retaliation. As such, Zania, Inc. has a strict policy that prohibits retaliation'),\n",
       " Document(metadata={'source': 'handbook.pdf', 'page': 37}, page_content='against employees who make such reports while employed in any form of employment. The Company also does not permit\\nretaliation against employees who refuse to participate in an activity that would result in a violation of a state or federal\\nstatute, or a violation or noncompliance with a state or federal rule or regulation.\\n38'),\n",
       " Document(metadata={'source': 'handbook.pdf', 'page': 38}, page_content=\"If you have information regarding possible violations of state or federal statutes, rules, or regulations, or violations of\\nfiduciary responsibility by the Company, we encourage you to report it immediately to your Manager or to the\\n[[President/CEO]]. Alternatively, you may contact the California State Attorney General's Whistleblower Hotline at (800) 952-\\n5225. The Attorney General will refer your call to the appropriate government authority for review and possible investigation.\\nBenefits\"),\n",
       " Document(metadata={'source': 'handbook.pdf', 'page': 38}, page_content='Benefits\\nCrime Victim Leave\\nZania, Inc. provides employees who are the victim of a violent felony or serious felony (or the family member of a victim of a\\nviolent felony or serious felony) with unpaid leave in order to attend judicial proceedings related to the crime. A family\\nmember under this policy includes a spouse, domestic partner, child, stepchild, brother, stepbrother, sister, stepsister,\\nmother, stepmother, father, or stepfather.'),\n",
       " Document(metadata={'source': 'handbook.pdf', 'page': 38}, page_content=\"mother, stepmother, father, or stepfather.\\nWhen the need for leave is foreseeable, you must provide documentation of the scheduled proceeding. Such notice is\\ntypically given to the victim of the crime by a court or government agency setting the hearing, a district attorney or\\nprosecuting attorney's office, or a victim/witness office. If advance notice is not possible, you must provide appropriate\\ndocumentation within a reasonable time after the absence.\"),\n",
       " Document(metadata={'source': 'handbook.pdf', 'page': 38}, page_content='documentation within a reasonable time after the absence.\\nAny absence from work to attend judicial proceedings will be unpaid, unless you choose to take paid time off, such as\\naccrued vacation or personal holiday.\\nThe Company will not retaliate against employees who request or take leave in accordance with this policy.\\nDisability Insurance\\nIf you are unable to work for at least eight days due to a non-work-related illness or injury, or a pregnancy-related disability,'),\n",
       " Document(metadata={'source': 'handbook.pdf', 'page': 38}, page_content=\"you may be eligible for disability insurance benefits. Disability insurance is a component of California's State Disability\\nInsurance (SDI) program, which is administered by the California Employment Development Department (EDD) and is\\nfunded by workers through SDI payroll deductions. Disability insurance provides eligible employees with up to 52 weeks of\\npartial wage replacement benefits. Benefit amounts are based on a percentage of your wages paid during a specific 12-\"),\n",
       " Document(metadata={'source': 'handbook.pdf', 'page': 38}, page_content=\"month base period, determined by the date your claim begins. \\nTo apply for this benefit, you must provide written notice of the disability, including a doctor's certificate stating the nature of\\nthe disability and your expected date of return to work.\\nThe SDI program does not create a right to a leave of absence, job protection, or job reinstatement.\\nYou are responsible for filing your claim and other forms promptly and accurately with the EDD. To learn more about the SDI\"),\n",
       " Document(metadata={'source': 'handbook.pdf', 'page': 38}, page_content='program, including eligibility requirements and benefits, or to make a claim for DI benefits, contact the EDD\\n(www.edd.ca.gov).\\nZania, Inc. will be notified that you have submitted a disability insurance claim.\\nJury Duty Leave\\nZania, Inc. encourages employees to fulfill their civic duties related to jury duty. If you are summoned for jury duty, notify\\nyour Manager as soon as possible to make scheduling arrangements.'),\n",
       " Document(metadata={'source': 'handbook.pdf', 'page': 38}, page_content=\"your Manager as soon as possible to make scheduling arrangements. \\nIf you are classified as exempt, you will not incur any deduction in pay for a partial week's absence due to jury duty. If you\\nare classified as nonexempt, you will not be compensated for time spent on jury duty. You may opt to use [[PTO/vacation]] in\\nplace of unpaid leave.\\n39\"),\n",
       " Document(metadata={'source': 'handbook.pdf', 'page': 39}, page_content=\"The Company reserves the right to require employees to provide proof of jury duty service to the extent authorized by law.\\nThe Company will not retaliate against employees who request or take leave in accordance with this policy.\\nPaid Family Leave Insurance\\nCalifornia's Paid Family Leave (PFL) insurance program provides eligible employees with up to eight weeks of partial wage\\nreplacement in any 12-month period to take time off from work to:\"),\n",
       " Document(metadata={'source': 'handbook.pdf', 'page': 39}, page_content='replacement in any 12-month period to take time off from work to:\\nBond with a new child (either by birth, adoption, or foster care placement);\\nCare for a seriously ill family member (child, parent, parent-in-law, grandparent, grandchild, sibling, spouse, or\\nregistered domestic partner); or\\nParticipate in a qualifying exigency related to the covered active duty, or call to covered active duty, of your spouse,\\ndomestic partner, child, or parent in the U.S. Armed Forces.'),\n",
       " Document(metadata={'source': 'handbook.pdf', 'page': 39}, page_content=\"domestic partner, child, or parent in the U.S. Armed Forces.\\nThe 12-month period begins on the day a claim is submitted.\\nPFL insurance is funded entirely by workers through state disability insurance (SDI) payroll deductions. If you are currently\\nreceiving benefits from SDI or workers' compensation insurance, you may not be eligible to receive PFL benefits. The\\nCalifornia PFL insurance program does not create a right to a leave of absence, job protection, or job reinstatement.\"),\n",
       " Document(metadata={'source': 'handbook.pdf', 'page': 39}, page_content=\"The PFL insurance program makes benefits available to eligible employees through the California Employment\\nDevelopment Department (EDD). Apply for PFL insurance directly with the EDD. Contact the EDD for information on\\neligibility or to obtain a claim form. Medical and other documentation may be required.\\nPaid Sick Leave (Accrual Method)\\nZania, Inc. provides paid sick leave to all eligible employees in accordance with California's Healthy Workplaces, Healthy\\nFamilies Act.\\nEligibility\"),\n",
       " Document(metadata={'source': 'handbook.pdf', 'page': 39}, page_content='Families Act.\\nEligibility\\nAll employees who have worked in California for at least 30 days within a year after beginning employment are entitled to\\nearn sick leave.\\nReasons for Leave\\nSick leave may be taken for the following reasons:\\nThe diagnosis, care, or treatment of an existing health condition, or preventive care for you or your family member.\\nTo seek care, psychological counseling, shelter or support services, safety-related measures, or any relief, including'),\n",
       " Document(metadata={'source': 'handbook.pdf', 'page': 39}, page_content=\"restraining orders, to help ensure your own or your child's health, safety, or welfare if you or your child is a victim of\\ndomestic violence, sexual assault, or stalking.\\nFamily member\\n means:\\nYour children (including biological, adopted, or foster children, legal wards, children of a domestic partner, or children\\nfor whom you stand in loco parentis).\\nYour spouse or registered domestic partner.\"),\n",
       " Document(metadata={'source': 'handbook.pdf', 'page': 39}, page_content=\"for whom you stand in loco parentis).\\nYour spouse or registered domestic partner.\\nYour parents or your spouse's or registered domestic partner's parents (including biological, foster, and stepparents;\\nadoptive parents; legal guardians; or persons who stood in loco parentis when you, or your spouse or domestic\\npartner, was a minor child).\\nYour grandparents.\\nYour grandchildren.\\nYour siblings.\"),\n",
       " Document(metadata={'source': 'handbook.pdf', 'page': 39}, page_content='partner, was a minor child).\\nYour grandparents.\\nYour grandchildren.\\nYour siblings.\\nA person designated by you at the time you request paid sick leave. [[You will be limited to making this designation\\n40'),\n",
       " Document(metadata={'source': 'handbook.pdf', 'page': 40}, page_content='once per 12-month period for purposes of paid sick leave.]]\\nAccrual and Usage\\nEligible employees begin to accrue sick leave upon employment at a rate of one hour for every 30 hours worked and may\\nbegin using accrued leave on the 90th day of employment. \\nYou may not use more sick leave than you have accrued or receive an advance of sick leave that has not yet been accrued.\\nEarned but unused sick leave will carry over to the following leave year up to a maximum of 48 hours (six days). For the'),\n",
       " Document(metadata={'source': 'handbook.pdf', 'page': 40}, page_content='purposes of this policy, the leave year is [[any consecutive 12-month period (e.g., calendar year, fiscal year, employee work\\nanniversary, etc.)]]. \\nYou may only use up to 24 hours (three days) of your available earned paid sick leave per leave year. Paid sick leave may\\nbe taken in no less than two-hour increments.\\nNotice\\nIf your need for leave is foreseeable, you must provide as much advance notice as possible. If unforeseeable, provide notice'),\n",
       " Document(metadata={'source': 'handbook.pdf', 'page': 40}, page_content='as soon as practical. If known, notice should include the expected length of the absence.\\nDocumentation\\nThe Company may request documentation verifying the appropriate use of leave.\\nPayment upon Termination\\nYou will not be paid for any unused sick leave when your employment ends.\\nReinstatement of Sick Leave upon Rehire\\nThe Company will reinstate previously accrued, unused sick leave if you separate and are rehired within one year.\\nInteraction with Other Leave'),\n",
       " Document(metadata={'source': 'handbook.pdf', 'page': 40}, page_content=\"Interaction with Other Leave\\nSick leave will run concurrently with other types of leave where permitted under applicable law.\\nRetaliation\\nThe Company will not retaliate against employees who request or take leave in accordance with this policy.\\nPaid Sick Leave (Frontloading Method)\\nZania, Inc. provides paid sick leave to all eligible employees in accordance with California's Healthy Workplaces, Healthy\\nFamilies Act.\\nEligibility\"),\n",
       " Document(metadata={'source': 'handbook.pdf', 'page': 40}, page_content='Families Act.\\nEligibility\\nAll employees who have worked in California for at least 30 days within a year after beginning employment are entitled to\\nreceive sick leave.\\nReasons for Leave\\nSick leave may be taken for the following reasons:\\nThe diagnosis, care, or treatment of an existing health condition, or preventive care for you or your family member.\\nTo seek care, psychological counseling, shelter or support services, safety-related measures, or any relief, including'),\n",
       " Document(metadata={'source': 'handbook.pdf', 'page': 40}, page_content=\"restraining orders, to help ensure your own or your child's health, safety, or welfare if you or your child is a victim of\\ndomestic violence, sexual assault, or stalking.\\n41\"),\n",
       " Document(metadata={'source': 'handbook.pdf', 'page': 41}, page_content=\"Family member\\n means:\\nYour children (including biological, adopted, or foster children, legal wards, children of a domestic partner, or children\\nfor whom you stand in loco parentis).\\nYour spouse or registered domestic partner.\\nYour parents or your spouse's or registered domestic partner's parents (including biological, foster, and stepparents;\\nadoptive parents; legal guardians; or persons who stood in loco parentis when you, or your spouse or domestic\\npartner, was a minor child).\"),\n",
       " Document(metadata={'source': 'handbook.pdf', 'page': 41}, page_content='partner, was a minor child).\\nYour grandparents.\\nYour grandchildren.\\nYour siblings.\\nA person designated by you at the time you request paid sick leave. [[You will be limited to making this designation\\nonce per 12-month period for purposes of paid sick leave.]]\\nAmount of Leave and Usage\\nEligible employees are provided with 24 hours of paid sick leave at the beginning of each leave year. For the purposes of'),\n",
       " Document(metadata={'source': 'handbook.pdf', 'page': 41}, page_content=\"this policy, the leave year is [[any consecutive 12-month period (e.g., calendar year, fiscal year, employee work anniversary,\\netc.)]]. [[IF YOUR COMPANY LEAVE YEAR IS NOT BASED ON EACH EMPLOYEE'S WORK ANNIVERSARY, INCLUDE\\nTHE FOLLOWING: If you started employment after the beginning of the leave year, you will be provided a corresponding\\namount of paid sick leave as required by law.]]\"),\n",
       " Document(metadata={'source': 'handbook.pdf', 'page': 41}, page_content='amount of paid sick leave as required by law.]]\\nYou must work 90 days before you can use paid sick leave. Any unused sick leave expires at the end of the leave year and\\ndoes not carry over to the following leave year.\\nYou may only use 24 hours (three days) of paid sick leave per leave year. Paid sick leave may be taken in no less than two-\\nhour increments.\\nNotice\\nIf your need for leave is foreseeable, you must provide as much advance notice as possible. If unforeseeable, provide notice'),\n",
       " Document(metadata={'source': 'handbook.pdf', 'page': 41}, page_content='as soon as practical. If known, notice should include the expected length of the absence.\\nDocumentation\\nThe Company may request documentation verifying the appropriate use of leave.\\nPayment upon Termination\\nYou will not be paid for any unused sick leave when your employment ends.\\nReinstatement of Sick Leave upon Rehire\\nThe Company will reinstate previously accrued, unused sick leave if you separate and are rehired within one year.\\nInteraction with Other Leave'),\n",
       " Document(metadata={'source': 'handbook.pdf', 'page': 41}, page_content=\"Interaction with Other Leave\\nSick leave will run concurrently with other types of leave where permitted under applicable law.\\nRetaliation\\nThe Company will not retaliate against employees who request or take leave in accordance with this policy.\\nSchool Disciplinary Leave\\nZania, Inc. will provide eligible employees with unpaid leave, where permitted by law, to appear at their child's school if the\"),\n",
       " Document(metadata={'source': 'handbook.pdf', 'page': 41}, page_content='child has been suspended and, for reasons specified in the California Education Code, they have been requested to attend a\\n42'),\n",
       " Document(metadata={'source': 'handbook.pdf', 'page': 42}, page_content='portion of a school day in the classroom of their child or ward.\\nEligibility\\nAll employees who are the parent or guardian of a student are eligible for school disciplinary leave.\\nNotice\\nYou must provide documentation from the school of your need to take school disciplinary leave.\\nRetaliation\\nThe Company will not retaliate against employees who request or take leave in accordance with this policy.\\nVoting Leave'),\n",
       " Document(metadata={'source': 'handbook.pdf', 'page': 42}, page_content='Voting Leave\\nIf your work schedule prevents you from voting on Election Day, Zania, Inc. will allow you a reasonable time off to vote. The\\ntime when you can go to vote will be at the discretion of your Manager, consistent with applicable legal requirements.\\nWitness Leave\\nIf you are required by law to appear in court as a witness, you may take unpaid time off to do so, provided you give Zania,\\nInc. reasonable advance notice.\\nSafety and Loss Prevention\\nHeat Illness Prevention'),\n",
       " Document(metadata={'source': 'handbook.pdf', 'page': 42}, page_content='Inc. reasonable advance notice.\\nSafety and Loss Prevention\\nHeat Illness Prevention\\nZania, Inc. is committed to complying with all applicable laws and ensuring that employees avoid heat illness while working\\noutside. Heat illness may begin with mild symptoms and progress quickly to signs of serious and life-threatening illness. All\\nemployees who work outdoors and are reasonably anticipated to be exposed to the risk of heat illness will be provided'),\n",
       " Document(metadata={'source': 'handbook.pdf', 'page': 42}, page_content='detailed training before starting work involving a risk of heat illness.\\nThis policy ensures that employees working outdoors understand they are allowed and encouraged to take preventative\\ncool-down rest periods in provided shaded areas whenever they feel the need to protect themselves from overheating. \\n[[For employees employed in agriculture, when temperatures reach 95 degrees Fahrenheit or higher, the Company will'),\n",
       " Document(metadata={'source': 'handbook.pdf', 'page': 42}, page_content='ensure that employees take a minimum 10-minute preventative cool-down rest period every two hours. If the workday\\nextends beyond eight hours, an addition cool-down rest period will be provided at the end of the eighth hour of work. If the\\nworkday extends beyond 10 hours, another cool-down rest period will be provided at the end of the 10th hour of work.]]\\nYou may also be asked to take a cool-down rest period if you are observed having any signs of heat illness. Access to'),\n",
       " Document(metadata={'source': 'handbook.pdf', 'page': 42}, page_content='shade is permitted at all times. Cool-down periods are not limited in frequency and are considered time worked.\\nWhen taking a preventative cool-down rest period:\\nYou will be monitored and asked if you are experiencing any symptoms of heat illness.\\nYou will be encouraged to remain in the shade.\\nYou will not be ordered back to work until any signs or symptoms of heat illness have abated, but in no event sooner\\nthan five minutes after accessing shade, excluding the time needed to access the shade.'),\n",
       " Document(metadata={'source': 'handbook.pdf', 'page': 42}, page_content='than five minutes after accessing shade, excluding the time needed to access the shade.\\nThe Company provides fresh, pure, and suitably cool drinking water at no charge. When the work environment is hot, you\\nare encouraged to frequently drink small cups of water, with up to four cups (one quart or more) per hour recommended, to\\nstay hydrated. \\n43'),\n",
       " Document(metadata={'source': 'handbook.pdf', 'page': 43}, page_content='The Company has in place effective emergency response procedures if you show signs or report symptoms of heat illness\\nwhile taking a preventative cool-down rest period. \\nYou must immediately report to your Manager if you experience any symptoms or signs of heat illness or see signs of heat\\nillness in co-workers so that the Company can respond with medical attention, as appropriate.\\nThe Company will not discriminate or retaliate against employees who take preventative cool-down rest periods in'),\n",
       " Document(metadata={'source': 'handbook.pdf', 'page': 43}, page_content='accordance with this policy.\\nWorkplace Smoking\\nZania, Inc. is concerned about the effect that smoking and secondhand smoke inhalation can have on its employees and\\nclients. Smoking in the office, client areas, and restrooms is prohibited.\\nTrade Secrets and Inventions\\nInventions\\nAs necessary, employees will receive a separate notification outlining the ownership of any inventions created by them.\\n44'),\n",
       " Document(metadata={'source': 'handbook.pdf', 'page': 44}, page_content='Closing Statement\\nThank you for reading our handbook. We hope it has provided you with an understanding of our mission, history, and\\nstructure as well as our current policies and guidelines. We look forward to working with you to create a successful\\nCompany and a safe, productive, and pleasant workplace.\\nShruti Gupta, CEO\\nZania, Inc.\\n45'),\n",
       " Document(metadata={'source': 'handbook.pdf', 'page': 45}, page_content='Acknowledgment of Receipt and Review\\nBy signing below, I acknowledge that I have received a copy of the Zania, Inc. Employee Handbook (handbook) and that I\\nhave read it, understand it, and agree to comply with it. I understand that the Company has the maximum discretion\\npermitted by law to interpret, administer, change, modify, or delete the rules, regulations, procedures, and benefits contained'),\n",
       " Document(metadata={'source': 'handbook.pdf', 'page': 45}, page_content='in the handbook at any time with or without notice. No statement or representation by a supervisor, manager, or any other\\nemployee, whether oral or written, can supplement or modify this handbook. Changes can only be made if approved in\\nwriting by the [[position or title]] of the Company. I also understand that any delay or failure by the Company to enforce any\\nrule, regulation, or procedure contained in the handbook does not constitute a waiver on behalf of the Company or affect the'),\n",
       " Document(metadata={'source': 'handbook.pdf', 'page': 45}, page_content='right of the Company to enforce such rule, regulation, or procedure in the future. \\nI understand that neither this handbook nor any other communication by a management representative or other, whether\\noral or written, is intended in any way to create a contract of employment. I further understand that, unless I have a written\\nemployment agreement signed by an authorized Company representative, I am employed \"at-will\" (to the extent permitted'),\n",
       " Document(metadata={'source': 'handbook.pdf', 'page': 45}, page_content='by law) and this handbook does not modify my \"at-will\" employment status. \\nIf I am covered by a written employment agreement (signed by an authorized Company representative) or a collective\\nbargaining agreement that conflicts with the terms of this handbook, I understand that the terms of the employment\\nagreement or collective bargaining agreement will control.\\nThis handbook is not intended to preclude or dissuade employees from engaging in legally protected activities under the'),\n",
       " Document(metadata={'source': 'handbook.pdf', 'page': 45}, page_content='National Labor Relations Act (NLRA). This handbook is not intended to violate any local, state, or federal law. No provision\\nor policy applies or will be enforced if it conflicts with or is superseded by any requirement or prohibition contained in federal,\\nstate, or local law, or regulation. \\nFurthermore, nothing in this handbook prohibits an employee from reporting concerns to,'),\n",
       " Document(metadata={'source': 'handbook.pdf', 'page': 45}, page_content='Furthermore, nothing in this handbook prohibits an employee from reporting concerns to,\\nfiling a charge or complaint with, making lawful disclosures to, providing documents or other information to, or participating in\\nan investigation or hearing conducted by the Equal Employment Opportunity Commission (EEOC), National Labor Relations\\nBoard (NLRB), Securities and Exchange Commission (SEC), or any other federal, state, or local agency charged with the\\nenforcement of any laws.'),\n",
       " Document(metadata={'source': 'handbook.pdf', 'page': 45}, page_content='enforcement of any laws.\\nThis handbook supersedes any previous handbook or policy statements, whether written or oral, issued by Zania, Inc..\\nIf I have any questions about the content or interpretation of this handbook, I will contact People Operations.\\n[sig|req|signer1]\\n                                                    \\n[date|req|signer1]\\n_________________________                           _________________________'),\n",
       " Document(metadata={'source': 'handbook.pdf', 'page': 45}, page_content='[date|req|signer1]\\n_________________________                           _________________________\\n Signature                                                                         Date\\n[text|req|signer1]\\n_________________________\\n Print Name\\n46')]"
      ]
     },
     "execution_count": 7,
     "metadata": {},
     "output_type": "execute_result"
    }
   ],
   "source": [
    "chunks"
   ]
  },
  {
   "cell_type": "code",
   "execution_count": 31,
   "metadata": {},
   "outputs": [],
   "source": [
    "# function to process and obtain chunks of document\n",
    "def get_chunks(file):\n",
    "    \"\"\"\n",
    "    Reads the file, split the document and return chunks of document\n",
    "    \"\"\"\n",
    "    loader = PyPDFLoader(file)\n",
    "    documents = loader.load()\n",
    "\n",
    "    chunks = r_splitter.split_documents(documents)\n",
    "    return chunks"
   ]
  },
  {
   "cell_type": "markdown",
   "metadata": {},
   "source": [
    "# VectorStore (Chromadb)"
   ]
  },
  {
   "cell_type": "code",
   "execution_count": 43,
   "metadata": {},
   "outputs": [],
   "source": [
    "# %pip install langchain_huggingface"
   ]
  },
  {
   "cell_type": "code",
   "execution_count": 15,
   "metadata": {},
   "outputs": [],
   "source": [
    "# from langchain_huggingface import HuggingFaceEmbeddings\n",
    "\n",
    "# embeddings_model = HuggingFaceEmbeddings(model=\"sentence-transformers/all-mpnet-base-v2\")"
   ]
  },
  {
   "cell_type": "code",
   "execution_count": 14,
   "metadata": {},
   "outputs": [],
   "source": [
    "from sentence_transformers import SentenceTransformer\n",
    "if not os.path.exists('model'):\n",
    "    os.mkdir('model')\n",
    "    embeddings_model = SentenceTransformer('all-mpnet-base-v2')\n",
    "    embeddings_model.save(path='model/all-mpnet-base-v2')"
   ]
  },
  {
   "cell_type": "code",
   "execution_count": 9,
   "metadata": {},
   "outputs": [],
   "source": [
    "#from langchain.embeddings import HuggingFaceEmbeddings\n",
    "from langchain_huggingface import HuggingFaceEmbeddings\n",
    "\n",
    "# get the embeddings model\n",
    "model_name = \"model/all-mpnet-base-v2\"\n",
    "model_kwargs = {}\n",
    "encode_kwargs = {}\n",
    "embeddings_model = HuggingFaceEmbeddings(\n",
    "    model_name=model_name,\n",
    "    model_kwargs=model_kwargs,\n",
    "    encode_kwargs=encode_kwargs\n",
    ")"
   ]
  },
  {
   "cell_type": "code",
   "execution_count": 26,
   "metadata": {},
   "outputs": [],
   "source": [
    "from langchain.vectorstores import Chroma"
   ]
  },
  {
   "cell_type": "code",
   "execution_count": 10,
   "metadata": {},
   "outputs": [],
   "source": [
    "persist_directory = 'chroma/'\n",
    "vector_store = Chroma.from_documents(\n",
    "    documents=chunks,\n",
    "    embedding=embeddings_model,\n",
    "    # persist_directory=persist_directory\n",
    ")"
   ]
  },
  {
   "cell_type": "code",
   "execution_count": 33,
   "metadata": {},
   "outputs": [],
   "source": [
    "# func to process and get a vectore db\n",
    "def get_vectordb(file):\n",
    "    \"\"\"\n",
    "    Process the given file and returns a vectore database\n",
    "    \"\"\"\n",
    "\n",
    "    # reads, splits and obtain chunks of input file\n",
    "    chunks = get_chunks(file)\n",
    "\n",
    "    # embeds and indexing of chunks\n",
    "    persist_directory = 'chroma/'\n",
    "    vector_store = Chroma.from_documents(\n",
    "        documents=chunks,\n",
    "        embedding=embeddings_model,\n",
    "        # persist_directory=persist_directory\n",
    "    )\n",
    "\n",
    "    return vector_store\n"
   ]
  },
  {
   "cell_type": "code",
   "execution_count": 34,
   "metadata": {},
   "outputs": [],
   "source": [
    "vector_store = get_vectordb(pdf_filepath)"
   ]
  },
  {
   "cell_type": "code",
   "execution_count": null,
   "metadata": {},
   "outputs": [
    {
     "name": "stdout",
     "output_type": "stream",
     "text": [
      "342\n"
     ]
    }
   ],
   "source": [
    "print(vector_store._collection.count())"
   ]
  },
  {
   "cell_type": "code",
   "execution_count": 12,
   "metadata": {},
   "outputs": [
    {
     "name": "stdout",
     "output_type": "stream",
     "text": [
      "======\n",
      "TABLE OF CONTENTS\n",
      "CORE POLICIES\n",
      "4\n",
      "1.0 WELCOME\n",
      "4\n",
      "1.1 A Welcome Policy\n",
      "4\n",
      "1.2 At-Will Employment\n",
      "4\n",
      "2.0 INTRODUCTORY LANGUAGE AND POLICIES\n",
      "5\n",
      "2.1 About the Company\n",
      "5\n",
      "2.2 Company Facilities\n",
      "5\n",
      "2.3 Ethics Code\n",
      "5\n",
      "2.4 Mission Statement\n",
      "5\n",
      "2.5 Our Organization\n",
      "5\n",
      "2.6 Revisions to Handbook\n",
      "5\n",
      "3.0 HIRING AND ORIENTATION POLICIES\n",
      "5\n",
      "3.1 Accommodations for Pregnant Employees\n",
      "5\n",
      "3.2 Conflicts of Interest\n",
      "6\n",
      "3.3 Employment Authorization Verification\n",
      "6\n",
      "3.4 Employment of Relatives and Friends\n",
      "6\n",
      "3.5 Job Descriptions\n",
      "7\n",
      "[{'page': 1, 'source': 'handbook.pdf'}]\n",
      "======\n",
      "\n",
      "======\n",
      "Acknowledgment of Receipt and Review\n",
      "By signing below, I acknowledge that I have received a copy of the Zania, Inc. Employee Handbook (handbook) and that I\n",
      "have read it, understand it, and agree to comply with it. I understand that the Company has the maximum discretion\n",
      "permitted by law to interpret, administer, change, modify, or delete the rules, regulations, procedures, and benefits contained\n",
      "[{'page': 45, 'source': 'handbook.pdf'}]\n",
      "======\n",
      "\n",
      "======\n",
      "agreement, the answers will be determined by reference to the actual union contract, rather than the summaries contained in\n",
      "this handbook.\n",
      "Please take the time now to read this handbook carefully. Sign the acknowledgment at the end to show that you have read,\n",
      "understood, and agree to the contents of this handbook, which sets out the basic rules and guidelines concerning your\n",
      "employment. This handbook supersedes any previously issued handbooks or policy statements dealing with the subjects\n",
      "[{'page': 3, 'source': 'handbook.pdf'}]\n",
      "======\n",
      "\n"
     ]
    }
   ],
   "source": [
    "# search for the relevant docs for user query\n",
    "\n",
    "user_query = \"What is the document about ?\"\n",
    "rel_docs = vector_store.similarity_search(user_query,k=3)\n",
    "\n",
    "\n",
    "for res in rel_docs:\n",
    "    print(f\"======\\n{res.page_content}\\n[{res.metadata}]\\n======\\n\")"
   ]
  },
  {
   "cell_type": "code",
   "execution_count": 20,
   "metadata": {},
   "outputs": [],
   "source": [
    "context = \"\"\n",
    "\n",
    "for doc in rel_docs:\n",
    "    context += \"```\\n\" + \"Source: \" + doc.metadata['source'] + \"\\ncontent:\\n\" + doc.page_content + \"```\\n\"\n"
   ]
  },
  {
   "cell_type": "code",
   "execution_count": 21,
   "metadata": {},
   "outputs": [
    {
     "name": "stdout",
     "output_type": "stream",
     "text": [
      "```\n",
      "Source: handbook.pdf\n",
      "content:\n",
      "introductory period/after completing # days of employment]].\n",
      "Deposits Into Your Leave Account\n",
      "Vacation is calculated according to [[your work anniversary year/the calendar year/the fiscal year, which begins on [date]\n",
      "and ends on [date]]]. \n",
      "[[\n",
      "EMPLOYERS MUST CHOOSE ONE\n",
      ":]]\n",
      "[[\n",
      "Option 1\n",
      ":]]\n",
      "The amount of vacation received each year is based on your length of service and [[is granted in a lump sum at the```\n",
      "```\n",
      "Source: handbook.pdf\n",
      "content:\n",
      "introductory period/after completing # days of employment]].\n",
      "Deposits Into Your Leave Account\n",
      "Vacation is calculated according to [[your work anniversary year/the calendar year/the fiscal year, which begins on [date]\n",
      "and ends on [date]]]. \n",
      "[[\n",
      "EMPLOYERS MUST CHOOSE ONE\n",
      ":]]\n",
      "[[\n",
      "Option 1\n",
      ":]]\n",
      "The amount of vacation received each year is based on your length of service and [[is granted in a lump sum at the```\n",
      "```\n",
      "Source: handbook.pdf\n",
      "content:\n",
      "Vacation granted during your first year of employment will be prorated based on your hire date.\n",
      "[[\n",
      "OR\n",
      "]]\n",
      "[[\n",
      "Option 2\n",
      ":]]\n",
      "All eligible employees will accrue [[# hours/days/weeks]] of vacation for every [[period of time]] worked, up to a maximum\n",
      "accrual of [[# hours/days/weeks]]. \n",
      "Once you reach the maximum accrual amount, you will not accrue any additional vacation until you use some of the accrued```\n",
      "\n"
     ]
    }
   ],
   "source": [
    "print(context)"
   ]
  },
  {
   "cell_type": "code",
   "execution_count": 17,
   "metadata": {},
   "outputs": [],
   "source": [
    "def get_rel_docs(user_query, document_storage, filters=[]):\n",
    "    \"\"\" \n",
    "    Gets the Relevant Docs Chunks from the VectorStore\n",
    "    \"\"\"\n",
    "    rel_docs = document_storage.similarity_search(\n",
    "        query=user_query,\n",
    "        k=3,\n",
    "        filter=filters, # [{\"term\": {\"metadata.source.keyword\": \"\"}}]\n",
    "    )\n",
    "\n",
    "    return rel_docs\n"
   ]
  },
  {
   "cell_type": "code",
   "execution_count": 18,
   "metadata": {},
   "outputs": [
    {
     "data": {
      "text/plain": [
       "[Document(metadata={'page': 1, 'source': 'handbook.pdf'}, page_content='TABLE OF CONTENTS\\nCORE POLICIES\\n4\\n1.0 WELCOME\\n4\\n1.1 A Welcome Policy\\n4\\n1.2 At-Will Employment\\n4\\n2.0 INTRODUCTORY LANGUAGE AND POLICIES\\n5\\n2.1 About the Company\\n5\\n2.2 Company Facilities\\n5\\n2.3 Ethics Code\\n5\\n2.4 Mission Statement\\n5\\n2.5 Our Organization\\n5\\n2.6 Revisions to Handbook\\n5\\n3.0 HIRING AND ORIENTATION POLICIES\\n5\\n3.1 Accommodations for Pregnant Employees\\n5\\n3.2 Conflicts of Interest\\n6\\n3.3 Employment Authorization Verification\\n6\\n3.4 Employment of Relatives and Friends\\n6\\n3.5 Job Descriptions\\n7'),\n",
       " Document(metadata={'page': 45, 'source': 'handbook.pdf'}, page_content='Acknowledgment of Receipt and Review\\nBy signing below, I acknowledge that I have received a copy of the Zania, Inc. Employee Handbook (handbook) and that I\\nhave read it, understand it, and agree to comply with it. I understand that the Company has the maximum discretion\\npermitted by law to interpret, administer, change, modify, or delete the rules, regulations, procedures, and benefits contained'),\n",
       " Document(metadata={'page': 3, 'source': 'handbook.pdf'}, page_content='agreement, the answers will be determined by reference to the actual union contract, rather than the summaries contained in\\nthis handbook.\\nPlease take the time now to read this handbook carefully. Sign the acknowledgment at the end to show that you have read,\\nunderstood, and agree to the contents of this handbook, which sets out the basic rules and guidelines concerning your\\nemployment. This handbook supersedes any previously issued handbooks or policy statements dealing with the subjects')]"
      ]
     },
     "execution_count": 18,
     "metadata": {},
     "output_type": "execute_result"
    }
   ],
   "source": [
    "get_rel_docs(user_query)"
   ]
  },
  {
   "cell_type": "markdown",
   "metadata": {},
   "source": [
    "# LLM Response"
   ]
  },
  {
   "cell_type": "code",
   "execution_count": 2,
   "metadata": {},
   "outputs": [],
   "source": [
    "OPENAI_API_KEY = \"\"\n",
    "\n",
    "TOKENIZERS_PARALLELISM=False"
   ]
  },
  {
   "cell_type": "code",
   "execution_count": 20,
   "metadata": {},
   "outputs": [],
   "source": [
    "import openai\n"
   ]
  },
  {
   "cell_type": "code",
   "execution_count": null,
   "metadata": {},
   "outputs": [],
   "source": [
    "def get_openai_response(prompt):\n",
    "    #openai.api_key = os.getenv(\"OPENAI_API_KEY\")\n",
    "    client = openai.OpenAI(api_key=OPENAI_API_KEY)\n",
    "    try:\n",
    "        response = client.chat.completions.create(\n",
    "            model=\"gpt-4o-mini\",\n",
    "            messages=[\n",
    "            {\"role\": \"system\", \"content\": \"You are a helpful assistant.\"},\n",
    "            {\"role\": \"user\", \"content\": prompt},\n",
    "            ]\n",
    "        )\n",
    "        return response.choices[0].message.content\n",
    "    except Exception as e:\n",
    "        raise Exception(f\"Error getting response from OpenAI API: {e}\")\n",
    "    "
   ]
  },
  {
   "cell_type": "code",
   "execution_count": 71,
   "metadata": {},
   "outputs": [],
   "source": [
    "#messages = [HumanMessage(content=\"\")]"
   ]
  },
  {
   "cell_type": "code",
   "execution_count": 19,
   "metadata": {},
   "outputs": [],
   "source": [
    "qna_prompt = \"\"\"\n",
    "You are a helpful assistant that provides concise answers to the query based on the provided context.  \n",
    "\n",
    "Here is the user's query:\n",
    "\"{user_query}\"\n",
    "\n",
    "Below is the relevant context:\n",
    "\"{context}\"\n",
    "\n",
    "Based on this context, provide a clear and accurate answer to the user's query. \n",
    "If the provided information does not contain the answer, say \"Data Not Available\"\n",
    "\"\"\""
   ]
  },
  {
   "cell_type": "code",
   "execution_count": 22,
   "metadata": {},
   "outputs": [
    {
     "data": {
      "text/plain": [
       "'The vacation policy includes options for calculating vacation based on either the length of service or an accrual system. Vacation granted in the first year is prorated based on the hire date. For eligible employees, vacation can be accrued over time, subject to a maximum limit. Further specifics, such as the number of hours or days accrued, are not provided in the content.'"
      ]
     },
     "execution_count": 22,
     "metadata": {},
     "output_type": "execute_result"
    }
   ],
   "source": [
    "formatted_prompt = qna_prompt.format(user_query=user_query, context=context)\n",
    "get_openai_response(formatted_prompt)"
   ]
  },
  {
   "cell_type": "code",
   "execution_count": 38,
   "metadata": {},
   "outputs": [],
   "source": [
    "def get_query_response(user_query, document_storage):\n",
    "    \"\"\"\n",
    "    Extract relevant context and Obtain the LLM response for given query.\n",
    "    \"\"\"\n",
    "    # get the rel docs\n",
    "    rel_docs = get_rel_docs(user_query, document_storage, filters=None)\n",
    "\n",
    "    # prepare context\n",
    "    context = \"\"\n",
    "    for doc in rel_docs:\n",
    "        context += \"```\\n\" + \"Source: \" + doc.metadata['source'] + \"\\ncontent:\\n\" + doc.page_content + \"```\\n\"\n",
    "\n",
    "    # format the prompt with user query and context\n",
    "    formatted_prompt = qna_prompt.format(user_query=user_query, context=context)\n",
    "    \n",
    "    # get openai response\n",
    "    response = get_openai_response(formatted_prompt)\n",
    "\n",
    "    return response, rel_docs\n"
   ]
  },
  {
   "cell_type": "code",
   "execution_count": 25,
   "metadata": {},
   "outputs": [
    {
     "name": "stdout",
     "output_type": "stream",
     "text": [
      "Based on the company policies, you can reimburse only eligible expenses that comply with company policies and have proper documentation. Personal expenses unrelated to work, fines, unauthorized purchases, or expenses violating company policies or local regulations are not reimbursable. Approval from your supervisor or department head is required to evaluate the appropriateness of expenses.\n"
     ]
    }
   ],
   "source": [
    "user_query = \"Can I reimburse all my expenses ?\"\n",
    "response, rel_docs = get_query_response(user_query)\n",
    "print(response)"
   ]
  },
  {
   "cell_type": "code",
   "execution_count": null,
   "metadata": {},
   "outputs": [],
   "source": []
  },
  {
   "cell_type": "code",
   "execution_count": 16,
   "metadata": {},
   "outputs": [],
   "source": [
    "# function to process given documents and get llm responses to a list of questions\n",
    "def get_responses_questions_list(filepath, queries_list):\n",
    "    \"\"\"\n",
    "    Process the given file and generate llm responses.\n",
    "    Returns: list of question-answer pair\n",
    "    \"\"\"\n",
    "    responses = []\n",
    "    # process the document and create a vectorstore \n",
    "    print(\"Processing the Document....\")\n",
    "    vector_store = get_vectordb(filepath)\n",
    "    print(\"Document Processed and Vectore Database Created\")\n",
    "    print(\"Getting Responses for each question...\")\n",
    "    for query in queries_list:\n",
    "        # get the llm response\n",
    "        response, rel_docs = get_query_response(query, document_storage=vector_store)\n",
    "\n",
    "        # store the question-answer pair in responses\n",
    "        responses.append({\n",
    "            \"question\": query,\n",
    "            \"answer\": response\n",
    "        })\n",
    "    print(\"Generated the answers for all questions.\")\n",
    "\n",
    "    return responses"
   ]
  },
  {
   "cell_type": "code",
   "execution_count": null,
   "metadata": {},
   "outputs": [],
   "source": []
  },
  {
   "cell_type": "code",
   "execution_count": null,
   "metadata": {},
   "outputs": [],
   "source": []
  },
  {
   "cell_type": "code",
   "execution_count": null,
   "metadata": {},
   "outputs": [],
   "source": []
  },
  {
   "cell_type": "markdown",
   "metadata": {},
   "source": [
    "# Test Cases"
   ]
  },
  {
   "cell_type": "code",
   "execution_count": 1,
   "metadata": {},
   "outputs": [
    {
     "name": "stderr",
     "output_type": "stream",
     "text": [
      "/Library/Frameworks/Python.framework/Versions/3.10/lib/python3.10/site-packages/sentence_transformers/cross_encoder/CrossEncoder.py:11: TqdmExperimentalWarning: Using `tqdm.autonotebook.tqdm` in notebook mode. Use `tqdm.tqdm` instead to force console mode (e.g. in jupyter console)\n",
      "  from tqdm.autonotebook import tqdm, trange\n"
     ]
    }
   ],
   "source": [
    "from utils import *"
   ]
  },
  {
   "cell_type": "code",
   "execution_count": 2,
   "metadata": {},
   "outputs": [],
   "source": [
    "pdf_filepath = \"handbook.pdf\"\n",
    "\n",
    "questions_list = [\n",
    "\"What is the name of the company?\",\n",
    "\"Who is the CEO of the company?\",\n",
    "\"What is their vacation policy?\",\n",
    "\"What is the termination policy?\"\n",
    "]"
   ]
  },
  {
   "cell_type": "code",
   "execution_count": 3,
   "metadata": {},
   "outputs": [
    {
     "name": "stdout",
     "output_type": "stream",
     "text": [
      "Processing the Document....\n",
      "Document Processed and Vectore Database Created\n",
      "Getting Responses for each question...\n"
     ]
    },
    {
     "name": "stderr",
     "output_type": "stream",
     "text": [
      "huggingface/tokenizers: The current process just got forked, after parallelism has already been used. Disabling parallelism to avoid deadlocks...\n",
      "To disable this warning, you can either:\n",
      "\t- Avoid using `tokenizers` before the fork if possible\n",
      "\t- Explicitly set the environment variable TOKENIZERS_PARALLELISM=(true | false)\n"
     ]
    },
    {
     "name": "stdout",
     "output_type": "stream",
     "text": [
      "Generated the answers for all questions.\n"
     ]
    }
   ],
   "source": [
    "responses = get_responses_questions_list(pdf_filepath, questions_list)"
   ]
  },
  {
   "cell_type": "code",
   "execution_count": 4,
   "metadata": {},
   "outputs": [
    {
     "data": {
      "text/plain": [
       "[{'question': 'What is the name of the company?',\n",
       "  'answer': 'The name of the company is Zania, Inc.'},\n",
       " {'question': 'Who is the CEO of the company?',\n",
       "  'answer': 'The CEO of the company is Shruti Gupta.'},\n",
       " {'question': 'What is their vacation policy?',\n",
       "  'answer': 'The vacation policy includes the following key points:\\n\\n1. Vacation is calculated based on your length of service and is either granted in a lump sum or accrued over time, depending on the chosen policy.\\n2. Vacation granted in the first year is prorated based on the hire date.\\n3. Employees must request vacation in advance, at least a certain number of days or weeks prior, and requests will be granted considering business needs.\\n4. Vacation must be taken in increments of at least a specified number of hours or days.\\n5. Part-time employees receive vacation time proportionally to their work schedule.\\n\\nFor specific accrual rates and amounts, further details would be needed as they are represented by placeholders in the context.'},\n",
       " {'question': 'What is the termination policy?',\n",
       "  'answer': 'The termination policy states that employees can be disciplined or terminated at any time, with or without notice and with or without cause. Employment is considered \"at-will,\" meaning there is no guarantee of continued employment or specific termination procedures, as they are governed by state laws. Violating company policies may lead to immediate termination.'}]"
      ]
     },
     "execution_count": 4,
     "metadata": {},
     "output_type": "execute_result"
    }
   ],
   "source": [
    "responses"
   ]
  },
  {
   "cell_type": "code",
   "execution_count": 6,
   "metadata": {},
   "outputs": [
    {
     "name": "stdout",
     "output_type": "stream",
     "text": [
      "123\n"
     ]
    }
   ],
   "source": []
  },
  {
   "cell_type": "code",
   "execution_count": null,
   "metadata": {},
   "outputs": [],
   "source": []
  }
 ],
 "metadata": {
  "kernelspec": {
   "display_name": "Python 3",
   "language": "python",
   "name": "python3"
  },
  "language_info": {
   "codemirror_mode": {
    "name": "ipython",
    "version": 3
   },
   "file_extension": ".py",
   "mimetype": "text/x-python",
   "name": "python",
   "nbconvert_exporter": "python",
   "pygments_lexer": "ipython3",
   "version": "3.10.6"
  }
 },
 "nbformat": 4,
 "nbformat_minor": 2
}
